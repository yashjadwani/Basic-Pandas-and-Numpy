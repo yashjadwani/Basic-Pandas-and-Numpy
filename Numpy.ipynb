{
 "cells": [
  {
   "cell_type": "markdown",
   "metadata": {
    "id": "koDDZrfpuiD7"
   },
   "source": [
    "# Numpy DIY "
   ]
  },
  {
   "cell_type": "code",
   "execution_count": 1,
   "metadata": {
    "id": "F1mWm_uJuiEB"
   },
   "outputs": [
    {
     "name": "stdout",
     "output_type": "stream",
     "text": [
      "1.21.5\n"
     ]
    }
   ],
   "source": [
    "import numpy as np \n",
    "print(np.__version__)"
   ]
  },
  {
   "cell_type": "markdown",
   "metadata": {
    "id": "fPqufOnHuiEJ"
   },
   "source": [
    "### Qn 1. Create a 1D array of numbers from 0 to 11\n",
    "Desired output: \n",
    "  `array([0, 1, 2, 3, 4, 5, 6, 7, 8, 9])`"
   ]
  },
  {
   "cell_type": "code",
   "execution_count": 2,
   "metadata": {
    "id": "6_dFfkk4S984"
   },
   "outputs": [
    {
     "data": {
      "text/plain": [
       "array([ 0,  1,  2,  3,  4,  5,  6,  7,  8,  9, 10])"
      ]
     },
     "execution_count": 2,
     "metadata": {},
     "output_type": "execute_result"
    }
   ],
   "source": [
    "# Type your code below\n",
    "x = np.arange(11)\n",
    "x"
   ]
  },
  {
   "cell_type": "markdown",
   "metadata": {
    "id": "NWUUxLM8rpUR"
   },
   "source": [
    "#### Qn 1.2 Print the data type of the array"
   ]
  },
  {
   "cell_type": "code",
   "execution_count": 3,
   "metadata": {
    "id": "yJgl7GSeryUB"
   },
   "outputs": [
    {
     "data": {
      "text/plain": [
       "dtype('int64')"
      ]
     },
     "execution_count": 3,
     "metadata": {},
     "output_type": "execute_result"
    }
   ],
   "source": [
    "# Type your code below\n",
    "x.dtype"
   ]
  },
  {
   "cell_type": "markdown",
   "metadata": {
    "id": "dpLcP7fNr2P-"
   },
   "source": [
    "#### Qn1.3 Change the dtype to `float64`"
   ]
  },
  {
   "cell_type": "code",
   "execution_count": 4,
   "metadata": {
    "id": "ubNbAWl1rpc5"
   },
   "outputs": [
    {
     "data": {
      "text/plain": [
       "dtype('float64')"
      ]
     },
     "execution_count": 4,
     "metadata": {},
     "output_type": "execute_result"
    }
   ],
   "source": [
    "# Type your code below\n",
    "y=x.astype('float64')\n",
    "y.dtype"
   ]
  },
  {
   "cell_type": "markdown",
   "metadata": {
    "id": "IGO-MLcOuiEL"
   },
   "source": [
    "### Qn 2. Extract all odd numbers from arr\n",
    "\n",
    "Input: `arr = [0, 1, 2, 3, 4, 5, 6, 7, 8, 9]`\n",
    "\n",
    "Desired output: \n",
    "  `array([1, 3, 5, 7, 9])`"
   ]
  },
  {
   "cell_type": "code",
   "execution_count": 5,
   "metadata": {
    "id": "55F9F1ChTPQZ"
   },
   "outputs": [
    {
     "data": {
      "text/plain": [
       "(array([1, 3, 5, 7, 9]),)"
      ]
     },
     "execution_count": 5,
     "metadata": {},
     "output_type": "execute_result"
    }
   ],
   "source": [
    "# Type your code below\n",
    "odd = np.where(x%2!=0)\n",
    "odd"
   ]
  },
  {
   "cell_type": "markdown",
   "metadata": {
    "id": "cqL-aIlTuiEM"
   },
   "source": [
    "### Q3. Convert a 1D array to a 2D array with 2 rows\n",
    "\n",
    "Input: np.arange(10)\n",
    "\n",
    "Desired Output:\n",
    "\n",
    "  ```\n",
    "  array([[0, 1, 2, 3, 4],\n",
    "          [5, 6, 7, 8, 9]])\n",
    "  ```"
   ]
  },
  {
   "cell_type": "code",
   "execution_count": 6,
   "metadata": {
    "id": "4og-BHe7T3iO"
   },
   "outputs": [
    {
     "data": {
      "text/plain": [
       "array([[0, 1, 2, 3, 4],\n",
       "       [5, 6, 7, 8, 9]])"
      ]
     },
     "execution_count": 6,
     "metadata": {},
     "output_type": "execute_result"
    }
   ],
   "source": [
    "# Type your code below\n",
    "reshape = np.arange(10).reshape(2,5)\n",
    "reshape"
   ]
  },
  {
   "cell_type": "markdown",
   "metadata": {
    "id": "DeR-RuWsuiES"
   },
   "source": [
    "\n",
    "### Q4. Stack arrays a and b vertically\n",
    "\n",
    "Input\n",
    "\n",
    "  ```\n",
    "  a = np.arange(10).reshape(2,-1)\n",
    "  b = np.repeat(1, 10).reshape(2,-1)\n",
    "  ```\n",
    "\n",
    "Desired Output:\n",
    "\n",
    "  ```\n",
    "  > array([[0, 1, 2, 3, 4],\n",
    "  >        [5, 6, 7, 8, 9],\n",
    "  >        [1, 1, 1, 1, 1],\n",
    "  >        [1, 1, 1, 1, 1]])\n",
    "  ```\n"
   ]
  },
  {
   "cell_type": "code",
   "execution_count": 7,
   "metadata": {
    "id": "ETGqZMr1UWiI"
   },
   "outputs": [
    {
     "name": "stdout",
     "output_type": "stream",
     "text": [
      "[[0 1 2 3 4]\n",
      " [5 6 7 8 9]\n",
      " [1 1 1 1 1]\n",
      " [1 1 1 1 1]]\n"
     ]
    }
   ],
   "source": [
    "# Type your code below\n",
    "a = np.arange(10).reshape(2,-1)\n",
    "b = np.repeat(1, 10).reshape(2,-1)\n",
    "vstack = np.concatenate((a,b))\n",
    "print(vstack)"
   ]
  },
  {
   "cell_type": "markdown",
   "metadata": {
    "id": "IteQ5S7juiEV"
   },
   "source": [
    "### Q5. Get the positions where elements of a and b match\n",
    "\n",
    "Input:\n",
    "\n",
    "  ```\n",
    "  a = [1,2,3,2,3,4,3,4,5,6]\n",
    "  b = [7,2,10,2,7,4,9,4,9,8]\n",
    "  ```\n",
    "\n",
    "Desired Output:\n",
    "\n",
    "  ```\n",
    "  > (array([1, 3, 5, 7]),)\n",
    "  ```"
   ]
  },
  {
   "cell_type": "code",
   "execution_count": 8,
   "metadata": {
    "id": "RYWJq-g5UyUV"
   },
   "outputs": [
    {
     "data": {
      "text/plain": [
       "array([1, 3, 5, 7])"
      ]
     },
     "execution_count": 8,
     "metadata": {},
     "output_type": "execute_result"
    }
   ],
   "source": [
    "a = [1,2,3,2,3,4,3,4,5,6]\n",
    "b = [7,2,10,2,7,4,9,4,9,8]\n",
    "\n",
    "common =[] \n",
    "for i in range(len(a)):\n",
    "    if (a[i]==b[i]):\n",
    "        common.append(i)\n",
    "        \n",
    "common_array = np.array(common)\n",
    "common_array"
   ]
  },
  {
   "cell_type": "markdown",
   "metadata": {
    "id": "jxiDW8wzuiEV"
   },
   "source": [
    "### Q6: Swap columns 1 and 2 in the array arr.\n",
    "\n",
    "Input: \n",
    "\n",
    "  ```\n",
    "  arr = np.arange(9).reshape(3,3)\n",
    "  ```\n",
    "\n"
   ]
  },
  {
   "cell_type": "code",
   "execution_count": 9,
   "metadata": {
    "id": "cmLzMsdYVQjP"
   },
   "outputs": [
    {
     "name": "stdout",
     "output_type": "stream",
     "text": [
      "[[0 1 2]\n",
      " [3 4 5]\n",
      " [6 7 8]]\n",
      "Swapped Columns==\n",
      "[[0 2 1]\n",
      " [3 5 4]\n",
      " [6 8 7]]\n"
     ]
    }
   ],
   "source": [
    "# Type your code below\n",
    "arr = np.arange(9).reshape(3,3)\n",
    "print(arr)\n",
    "arr[:,[1,2]] = arr [:,[2,1]]\n",
    "print('Swapped Columns==')\n",
    "print(arr)"
   ]
  },
  {
   "cell_type": "markdown",
   "metadata": {
    "id": "vXIlVwpFuiEW"
   },
   "source": [
    "### Q7: Swap rows 1 and 2 in the array arr:\n",
    "\n",
    "Input:\n",
    "  ```\n",
    "  arr = np.arange(9).reshape(3,3)\n",
    "  ```"
   ]
  },
  {
   "cell_type": "code",
   "execution_count": 10,
   "metadata": {
    "id": "ZkXvOUwhVib2"
   },
   "outputs": [
    {
     "name": "stdout",
     "output_type": "stream",
     "text": [
      "[[0 1 2]\n",
      " [3 4 5]\n",
      " [6 7 8]]\n",
      "Swapped Rows==\n",
      "[[0 1 2]\n",
      " [6 7 8]\n",
      " [3 4 5]]\n"
     ]
    }
   ],
   "source": [
    "# Type your code below\n",
    "arr = np.arange(9).reshape(3,3)\n",
    "print(arr)\n",
    "arr[[1,2],:] = arr [[2,1],:]\n",
    "print('Swapped Rows==')\n",
    "print(arr)"
   ]
  },
  {
   "cell_type": "markdown",
   "metadata": {
    "id": "m1-4jCBouiEX"
   },
   "source": [
    "### Q8. Reverse the rows of a 2D array arr.\n",
    "\n",
    "Input:\n",
    "\n",
    "```\n",
    "arr = np.arange(9).reshape(3,3)\n",
    "```"
   ]
  },
  {
   "cell_type": "code",
   "execution_count": 11,
   "metadata": {
    "id": "pUMFEBlQVwdX"
   },
   "outputs": [
    {
     "name": "stdout",
     "output_type": "stream",
     "text": [
      "[[0 1 2]\n",
      " [3 4 5]\n",
      " [6 7 8]]\n",
      "===Reversed Rows===\n",
      "[[2 1 0]\n",
      " [5 4 3]\n",
      " [8 7 6]]\n"
     ]
    }
   ],
   "source": [
    "# Type your code below\n",
    "arr = np.arange(9).reshape(3,3)\n",
    "print(arr)\n",
    "print('===Reversed Rows===')\n",
    "print(np.flip(arr,axis=1)) "
   ]
  },
  {
   "cell_type": "markdown",
   "metadata": {
    "id": "tqdCqZS6uiEY"
   },
   "source": [
    "### Q9. Create a 2D array of shape 5x3 to contain random decimal numbers between 5 and 10."
   ]
  },
  {
   "cell_type": "code",
   "execution_count": 12,
   "metadata": {
    "id": "OBdKMHhAWHou"
   },
   "outputs": [
    {
     "data": {
      "text/plain": [
       "array([[8.02442023, 5.27121777, 7.67146049],\n",
       "       [7.4184814 , 9.90414442, 6.21259268],\n",
       "       [8.412925  , 7.83253858, 5.20870639],\n",
       "       [9.36033868, 5.08314138, 5.56185428],\n",
       "       [5.74885019, 7.36613189, 9.16581456]])"
      ]
     },
     "execution_count": 12,
     "metadata": {},
     "output_type": "execute_result"
    }
   ],
   "source": [
    "# Type your code below\n",
    "arr = np.random.uniform(5,10,(5,3))\n",
    "arr"
   ]
  },
  {
   "cell_type": "markdown",
   "metadata": {
    "id": "mH13aIRS1cwm"
   },
   "source": []
  },
  {
   "cell_type": "markdown",
   "metadata": {
    "id": "mr3A_a6pyf-Y"
   },
   "source": [
    "### Q10: Consider the below array\n",
    "\n",
    "`array([0, 1, 2, 3, 4, 5, 6, 7, 8, 9])`\n",
    "\n",
    "#### Q10.1 Create a slice of the array containing the following values:  `array([5, 6, 7])`"
   ]
  },
  {
   "cell_type": "code",
   "execution_count": 13,
   "metadata": {
    "id": "EL_M1uywyYF-"
   },
   "outputs": [
    {
     "data": {
      "text/plain": [
       "array([5, 6, 7])"
      ]
     },
     "execution_count": 13,
     "metadata": {},
     "output_type": "execute_result"
    }
   ],
   "source": [
    "# Type your code below\n",
    "arr = np.arange(10)\n",
    "arr[5:8]"
   ]
  },
  {
   "cell_type": "markdown",
   "metadata": {
    "id": "IFShbg8TzFjX"
   },
   "source": [
    "#### Q10.2 Modify the given array to the below format \n",
    "``` array([ 0,  1,  2,  3,  4, 12, 12, 12,  8,  9]) ```"
   ]
  },
  {
   "cell_type": "code",
   "execution_count": 14,
   "metadata": {
    "id": "ZFjh2LoHzAAo"
   },
   "outputs": [
    {
     "data": {
      "text/plain": [
       "array([ 0,  1,  2,  3,  4, 12, 12, 12,  8,  9])"
      ]
     },
     "execution_count": 14,
     "metadata": {},
     "output_type": "execute_result"
    }
   ],
   "source": [
    "# Type your code below\n",
    "arr = np.arange(10)\n",
    "arr[5:8] = 12\n",
    "arr"
   ]
  },
  {
   "cell_type": "markdown",
   "metadata": {
    "id": "HW25ZjX2uiEf"
   },
   "source": [
    "\n",
    "### Q11: Drop all nan values from a 1D numpy array\n",
    "\n",
    "Input:\n",
    "\n",
    "  ```\n",
    "    a = [1,2,3,np.nan,5,6,7,np.nan]\n",
    "  ```\n",
    "\n",
    "Desired Output:\n",
    "\n",
    "  ```\n",
    "  array([ 1.,  2.,  3.,  5.,  6.,  7.])\n",
    "  ```\n"
   ]
  },
  {
   "cell_type": "code",
   "execution_count": 15,
   "metadata": {
    "id": "mRgCc45wXczm"
   },
   "outputs": [
    {
     "data": {
      "text/plain": [
       "array([1., 2., 3., 5., 6., 7.])"
      ]
     },
     "execution_count": 15,
     "metadata": {},
     "output_type": "execute_result"
    }
   ],
   "source": [
    "# Type your code below\n",
    "a = [1,2,3,np.nan,5,6,7,np.nan]\n",
    "a.remove(np.nan)\n",
    "a.remove(np.nan)\n",
    "arr = np.array(a,dtype='float64')\n",
    "arr"
   ]
  },
  {
   "cell_type": "markdown",
   "metadata": {
    "id": "ocPv6ROcumjj"
   },
   "source": [
    "### Q12: Create an empty, ones and zero array with 6, 3, and 4 elements respectively"
   ]
  },
  {
   "cell_type": "code",
   "execution_count": 16,
   "metadata": {
    "id": "IgM4gOGxuGau"
   },
   "outputs": [
    {
     "name": "stdout",
     "output_type": "stream",
     "text": [
      "[1. 2. 3. 5. 6. 7.]\n",
      "[0. 0. 0.]\n",
      "[1. 1. 1. 1.]\n"
     ]
    }
   ],
   "source": [
    "# Type your code below\n",
    "empty = np.empty([6,])\n",
    "print(empty)\n",
    "zeros = np.zeros([3,])\n",
    "print(zeros)\n",
    "one = np.ones([4,])\n",
    "print(one)"
   ]
  },
  {
   "cell_type": "markdown",
   "metadata": {
    "id": "bpPrge0xuzdN"
   },
   "source": [
    "### Q13: Create a 4x4 array with all elements value set to 23.67"
   ]
  },
  {
   "cell_type": "code",
   "execution_count": 17,
   "metadata": {
    "id": "StxnCmcFu9Cf"
   },
   "outputs": [
    {
     "data": {
      "text/plain": [
       "array([[23.67, 23.67, 23.67, 23.67],\n",
       "       [23.67, 23.67, 23.67, 23.67],\n",
       "       [23.67, 23.67, 23.67, 23.67],\n",
       "       [23.67, 23.67, 23.67, 23.67]])"
      ]
     },
     "execution_count": 17,
     "metadata": {},
     "output_type": "execute_result"
    }
   ],
   "source": [
    "# Type your code below\n",
    "x = np.full(shape=(4,4), fill_value = 23.67)\n",
    "x"
   ]
  },
  {
   "cell_type": "markdown",
   "metadata": {
    "id": "N9SSHsU2xUWO"
   },
   "source": [
    "### Qn14: Create an array with eight values that are spaced linearly in the [13, 27] interval"
   ]
  },
  {
   "cell_type": "code",
   "execution_count": 18,
   "metadata": {
    "id": "8mFdSopMvCOI"
   },
   "outputs": [
    {
     "data": {
      "text/plain": [
       "array([13., 15., 17., 19., 21., 23., 25., 27.])"
      ]
     },
     "execution_count": 18,
     "metadata": {},
     "output_type": "execute_result"
    }
   ],
   "source": [
    "# Type your code below\n",
    "x = np.linspace(13,27,8)\n",
    "x"
   ]
  },
  {
   "cell_type": "markdown",
   "metadata": {
    "id": "oM40P3FRkMgk"
   },
   "source": [
    "# Optional Questions\n"
   ]
  },
  {
   "cell_type": "markdown",
   "metadata": {
    "id": "oFKE8t_Qxjl3"
   },
   "source": [
    "## Qn15: Use NumPy to create a random array with 50 random numbers, maximum number should be less than 1000 "
   ]
  },
  {
   "cell_type": "code",
   "execution_count": 19,
   "metadata": {
    "id": "Gf9z-XUWlaE9"
   },
   "outputs": [
    {
     "data": {
      "text/plain": [
       "array([822.91324356, 642.44842695, 830.20079792, 122.61504741,\n",
       "       921.31112263, 168.00945815,  61.94200548,  94.93301927,\n",
       "       460.44492894, 515.51682563, 627.96906684, 871.50084471,\n",
       "       747.57839724, 502.91162569, 279.67503475,  37.08474625,\n",
       "       393.47133665, 366.57149603, 776.2771801 , 236.19698272,\n",
       "        32.02048338, 979.31869887, 982.75139512, 415.37212894,\n",
       "       470.13054215, 585.01157001, 780.86750296, 976.95726014,\n",
       "        73.51343589,  54.55637086, 369.47483995, 282.74305432,\n",
       "       550.39043889, 594.13986812,  22.96485082, 243.50512677,\n",
       "       627.62776004, 677.10798009, 504.84288382, 465.22975973,\n",
       "       815.70231032, 622.12221517, 928.8115596 , 284.03619371,\n",
       "        76.90577389, 195.08945079, 216.19777993, 987.82054072,\n",
       "       498.06756667, 694.80964841])"
      ]
     },
     "execution_count": 19,
     "metadata": {},
     "output_type": "execute_result"
    }
   ],
   "source": [
    "# Type your code below\n",
    "arr = np.random.uniform(high=1000,size=50)\n",
    "arr"
   ]
  },
  {
   "cell_type": "markdown",
   "metadata": {
    "id": "fCGcpGaNyYhx"
   },
   "source": [
    "## Qn16: Improve answer in Qn15 to always return same random numbers\n"
   ]
  },
  {
   "cell_type": "code",
   "execution_count": 20,
   "metadata": {
    "id": "v5ZKy-yhymyE"
   },
   "outputs": [
    {
     "data": {
      "text/plain": [
       "array([653.58958546, 115.00694312, 950.28286435, 482.19140143,\n",
       "       872.47453518, 212.33268092,  40.70962477, 397.19446135,\n",
       "       233.13219735, 841.74072425, 207.08234439, 742.46953358,\n",
       "       392.15412781, 182.25651995, 743.53941459,  69.58208097,\n",
       "       885.33720438, 952.64439922, 931.14343468, 415.43095304,\n",
       "        28.98165939, 982.0274846 , 339.63768364, 706.68719389,\n",
       "       361.87706761,  35.10589795, 855.05825324, 657.25350814,\n",
       "       765.68299415, 554.087238  , 885.09293661, 904.1976154 ,\n",
       "        10.42170056,  74.55673614, 244.62920976, 133.30475245,\n",
       "       697.92510041, 398.20488353, 883.1221914 , 181.00751027,\n",
       "       432.49917179,  18.14320275, 691.43786169, 469.69065204,\n",
       "       128.22218965, 891.33705129, 918.20362447,  73.12099368,\n",
       "        45.44794323, 438.57289574])"
      ]
     },
     "execution_count": 20,
     "metadata": {},
     "output_type": "execute_result"
    }
   ],
   "source": [
    "# Type your code below\n",
    "np.random.seed(1000)\n",
    "arr = np.random.uniform(high=1000,size=50)\n",
    "arr"
   ]
  },
  {
   "cell_type": "markdown",
   "metadata": {
    "id": "H0Y5Q03-z_Uv"
   },
   "source": [
    "## Qn17: Find a way to generate randon words"
   ]
  },
  {
   "cell_type": "code",
   "execution_count": 21,
   "metadata": {
    "id": "A8cMgz9v0Zno"
   },
   "outputs": [],
   "source": [
    "# Type your code below\n"
   ]
  }
 ],
 "metadata": {
  "colab": {
   "name": "DIY-Assignment-Introduction_to_Numpy.ipynb",
   "provenance": [],
   "toc_visible": true
  },
  "kernelspec": {
   "display_name": "Python 3",
   "language": "python",
   "name": "python3"
  },
  "language_info": {
   "codemirror_mode": {
    "name": "ipython",
    "version": 3
   },
   "file_extension": ".py",
   "mimetype": "text/x-python",
   "name": "python",
   "nbconvert_exporter": "python",
   "pygments_lexer": "ipython3",
   "version": "3.7.3"
  }
 },
 "nbformat": 4,
 "nbformat_minor": 1
}
