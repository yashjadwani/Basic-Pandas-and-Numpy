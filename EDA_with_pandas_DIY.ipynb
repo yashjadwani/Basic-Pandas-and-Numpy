{
 "cells": [
  {
   "cell_type": "code",
   "execution_count": 1,
   "metadata": {
    "id": "Y9GL9Lub6YtQ"
   },
   "outputs": [],
   "source": [
    "import numpy as np\n",
    "import pandas as pd"
   ]
  },
  {
   "cell_type": "markdown",
   "metadata": {
    "id": "eP4Cmx1O38kX"
   },
   "source": [
    "# Q1: Working with Pandas Series\n",
    "\n",
    "## Q1.1\n",
    "Create a Pandas Series consisting of numbers from 1 to 13 using numpy array"
   ]
  },
  {
   "cell_type": "code",
   "execution_count": 2,
   "metadata": {
    "id": "7NsQwnLC33f8"
   },
   "outputs": [
    {
     "data": {
      "text/plain": [
       "0      1\n",
       "1      2\n",
       "2      3\n",
       "3      4\n",
       "4      5\n",
       "5      6\n",
       "6      7\n",
       "7      8\n",
       "8      9\n",
       "9     10\n",
       "10    11\n",
       "11    12\n",
       "12    13\n",
       "dtype: int32"
      ]
     },
     "execution_count": 2,
     "metadata": {},
     "output_type": "execute_result"
    }
   ],
   "source": [
    "x = pd.Series(np.arange(1,14))\n",
    "x"
   ]
  },
  {
   "cell_type": "markdown",
   "metadata": {
    "id": "3BL8Epzr6uTN"
   },
   "source": [
    "## Q 1.2 \n",
    "Add index column name as index_column and add series name as pandas_series"
   ]
  },
  {
   "cell_type": "code",
   "execution_count": 3,
   "metadata": {
    "id": "KDhC2pZg64ll"
   },
   "outputs": [
    {
     "data": {
      "text/plain": [
       "index_column\n",
       "0      1\n",
       "1      2\n",
       "2      3\n",
       "3      4\n",
       "4      5\n",
       "5      6\n",
       "6      7\n",
       "7      8\n",
       "8      9\n",
       "9     10\n",
       "10    11\n",
       "11    12\n",
       "12    13\n",
       "Name: pandas_series, dtype: int32"
      ]
     },
     "execution_count": 3,
     "metadata": {},
     "output_type": "execute_result"
    }
   ],
   "source": [
    "x.name = 'pandas_series'\n",
    "x.index.name = 'index_column'\n",
    "x"
   ]
  },
  {
   "cell_type": "markdown",
   "metadata": {
    "id": "AkLCwfzE8mtH"
   },
   "source": [
    "## Q 1.3 \n",
    "\n",
    "Create a dataframe using the pandas series defined above\n"
   ]
  },
  {
   "cell_type": "code",
   "execution_count": 4,
   "metadata": {
    "id": "h05W8jYn8Mnc"
   },
   "outputs": [
    {
     "data": {
      "text/html": [
       "<div>\n",
       "<style scoped>\n",
       "    .dataframe tbody tr th:only-of-type {\n",
       "        vertical-align: middle;\n",
       "    }\n",
       "\n",
       "    .dataframe tbody tr th {\n",
       "        vertical-align: top;\n",
       "    }\n",
       "\n",
       "    .dataframe thead th {\n",
       "        text-align: right;\n",
       "    }\n",
       "</style>\n",
       "<table border=\"1\" class=\"dataframe\">\n",
       "  <thead>\n",
       "    <tr style=\"text-align: right;\">\n",
       "      <th></th>\n",
       "      <th>pandas_series</th>\n",
       "    </tr>\n",
       "    <tr>\n",
       "      <th>index_column</th>\n",
       "      <th></th>\n",
       "    </tr>\n",
       "  </thead>\n",
       "  <tbody>\n",
       "    <tr>\n",
       "      <th>0</th>\n",
       "      <td>1</td>\n",
       "    </tr>\n",
       "    <tr>\n",
       "      <th>1</th>\n",
       "      <td>2</td>\n",
       "    </tr>\n",
       "    <tr>\n",
       "      <th>2</th>\n",
       "      <td>3</td>\n",
       "    </tr>\n",
       "    <tr>\n",
       "      <th>3</th>\n",
       "      <td>4</td>\n",
       "    </tr>\n",
       "    <tr>\n",
       "      <th>4</th>\n",
       "      <td>5</td>\n",
       "    </tr>\n",
       "    <tr>\n",
       "      <th>5</th>\n",
       "      <td>6</td>\n",
       "    </tr>\n",
       "    <tr>\n",
       "      <th>6</th>\n",
       "      <td>7</td>\n",
       "    </tr>\n",
       "    <tr>\n",
       "      <th>7</th>\n",
       "      <td>8</td>\n",
       "    </tr>\n",
       "    <tr>\n",
       "      <th>8</th>\n",
       "      <td>9</td>\n",
       "    </tr>\n",
       "    <tr>\n",
       "      <th>9</th>\n",
       "      <td>10</td>\n",
       "    </tr>\n",
       "    <tr>\n",
       "      <th>10</th>\n",
       "      <td>11</td>\n",
       "    </tr>\n",
       "    <tr>\n",
       "      <th>11</th>\n",
       "      <td>12</td>\n",
       "    </tr>\n",
       "    <tr>\n",
       "      <th>12</th>\n",
       "      <td>13</td>\n",
       "    </tr>\n",
       "  </tbody>\n",
       "</table>\n",
       "</div>"
      ],
      "text/plain": [
       "              pandas_series\n",
       "index_column               \n",
       "0                         1\n",
       "1                         2\n",
       "2                         3\n",
       "3                         4\n",
       "4                         5\n",
       "5                         6\n",
       "6                         7\n",
       "7                         8\n",
       "8                         9\n",
       "9                        10\n",
       "10                       11\n",
       "11                       12\n",
       "12                       13"
      ]
     },
     "execution_count": 4,
     "metadata": {},
     "output_type": "execute_result"
    }
   ],
   "source": [
    "df = pd.DataFrame(x)\n",
    "df"
   ]
  },
  {
   "cell_type": "markdown",
   "metadata": {
    "id": "8niPOrEA816c"
   },
   "source": [
    "## Q 1.4\n",
    "\n",
    "Create another pandas series with numbers from 0 to 13 but in reverse order"
   ]
  },
  {
   "cell_type": "code",
   "execution_count": 5,
   "metadata": {
    "id": "vTHyPcWY8-XM"
   },
   "outputs": [
    {
     "data": {
      "text/plain": [
       "0     13\n",
       "1     12\n",
       "2     11\n",
       "3     10\n",
       "4      9\n",
       "5      8\n",
       "6      7\n",
       "7      6\n",
       "8      5\n",
       "9      4\n",
       "10     3\n",
       "11     2\n",
       "12     1\n",
       "dtype: int32"
      ]
     },
     "execution_count": 5,
     "metadata": {},
     "output_type": "execute_result"
    }
   ],
   "source": [
    "x_rev = pd.Series(np.arange(13,0,-1))\n",
    "x_rev"
   ]
  },
  {
   "cell_type": "markdown",
   "metadata": {
    "id": "E4A88Dts-W58"
   },
   "source": [
    "## Q 1.5 \n",
    "\n",
    "Assign series name as pandas_series2"
   ]
  },
  {
   "cell_type": "code",
   "execution_count": 6,
   "metadata": {
    "id": "Lj0nVrHE-gNV"
   },
   "outputs": [
    {
     "data": {
      "text/plain": [
       "0     13\n",
       "1     12\n",
       "2     11\n",
       "3     10\n",
       "4      9\n",
       "5      8\n",
       "6      7\n",
       "7      6\n",
       "8      5\n",
       "9      4\n",
       "10     3\n",
       "11     2\n",
       "12     1\n",
       "Name: pandas_series2, dtype: int32"
      ]
     },
     "execution_count": 6,
     "metadata": {},
     "output_type": "execute_result"
    }
   ],
   "source": [
    "x_rev.name = 'pandas_series2'\n",
    "x_rev"
   ]
  },
  {
   "cell_type": "markdown",
   "metadata": {
    "id": "3_0A1awo4Fq1"
   },
   "source": [
    "# Q2: Dataframe from Python dictionary"
   ]
  },
  {
   "cell_type": "markdown",
   "metadata": {
    "id": "pUCYaWhPHm0O"
   },
   "source": [
    "\n",
    "## Q 2.1\n",
    "\n",
    "Create a Python dictionary using both series defined above. "
   ]
  },
  {
   "cell_type": "code",
   "execution_count": 7,
   "metadata": {
    "id": "7WTIfvuvFy_6"
   },
   "outputs": [
    {
     "data": {
      "text/plain": [
       "{'first': array([ 1,  2,  3,  4,  5,  6,  7,  8,  9, 10, 11, 12, 13]),\n",
       " 'second': array([13, 12, 11, 10,  9,  8,  7,  6,  5,  4,  3,  2,  1])}"
      ]
     },
     "execution_count": 7,
     "metadata": {},
     "output_type": "execute_result"
    }
   ],
   "source": [
    "df_dict = {'first':x.values,'second':x_rev.values}\n",
    "df_dict"
   ]
  },
  {
   "cell_type": "markdown",
   "metadata": {
    "id": "t3INJH0OGsez"
   },
   "source": [
    "## Q 2.2 \n",
    "Use the dictionary defined above to create a Python Dataframe with column names series_1 and series_2 respectively"
   ]
  },
  {
   "cell_type": "code",
   "execution_count": 8,
   "metadata": {
    "id": "2irSldhhFzIC"
   },
   "outputs": [
    {
     "data": {
      "text/html": [
       "<div>\n",
       "<style scoped>\n",
       "    .dataframe tbody tr th:only-of-type {\n",
       "        vertical-align: middle;\n",
       "    }\n",
       "\n",
       "    .dataframe tbody tr th {\n",
       "        vertical-align: top;\n",
       "    }\n",
       "\n",
       "    .dataframe thead th {\n",
       "        text-align: right;\n",
       "    }\n",
       "</style>\n",
       "<table border=\"1\" class=\"dataframe\">\n",
       "  <thead>\n",
       "    <tr style=\"text-align: right;\">\n",
       "      <th></th>\n",
       "      <th>series_1</th>\n",
       "      <th>series_2</th>\n",
       "    </tr>\n",
       "  </thead>\n",
       "  <tbody>\n",
       "    <tr>\n",
       "      <th>0</th>\n",
       "      <td>1</td>\n",
       "      <td>13</td>\n",
       "    </tr>\n",
       "    <tr>\n",
       "      <th>1</th>\n",
       "      <td>2</td>\n",
       "      <td>12</td>\n",
       "    </tr>\n",
       "    <tr>\n",
       "      <th>2</th>\n",
       "      <td>3</td>\n",
       "      <td>11</td>\n",
       "    </tr>\n",
       "    <tr>\n",
       "      <th>3</th>\n",
       "      <td>4</td>\n",
       "      <td>10</td>\n",
       "    </tr>\n",
       "    <tr>\n",
       "      <th>4</th>\n",
       "      <td>5</td>\n",
       "      <td>9</td>\n",
       "    </tr>\n",
       "    <tr>\n",
       "      <th>5</th>\n",
       "      <td>6</td>\n",
       "      <td>8</td>\n",
       "    </tr>\n",
       "    <tr>\n",
       "      <th>6</th>\n",
       "      <td>7</td>\n",
       "      <td>7</td>\n",
       "    </tr>\n",
       "    <tr>\n",
       "      <th>7</th>\n",
       "      <td>8</td>\n",
       "      <td>6</td>\n",
       "    </tr>\n",
       "    <tr>\n",
       "      <th>8</th>\n",
       "      <td>9</td>\n",
       "      <td>5</td>\n",
       "    </tr>\n",
       "    <tr>\n",
       "      <th>9</th>\n",
       "      <td>10</td>\n",
       "      <td>4</td>\n",
       "    </tr>\n",
       "    <tr>\n",
       "      <th>10</th>\n",
       "      <td>11</td>\n",
       "      <td>3</td>\n",
       "    </tr>\n",
       "    <tr>\n",
       "      <th>11</th>\n",
       "      <td>12</td>\n",
       "      <td>2</td>\n",
       "    </tr>\n",
       "    <tr>\n",
       "      <th>12</th>\n",
       "      <td>13</td>\n",
       "      <td>1</td>\n",
       "    </tr>\n",
       "  </tbody>\n",
       "</table>\n",
       "</div>"
      ],
      "text/plain": [
       "    series_1  series_2\n",
       "0          1        13\n",
       "1          2        12\n",
       "2          3        11\n",
       "3          4        10\n",
       "4          5         9\n",
       "5          6         8\n",
       "6          7         7\n",
       "7          8         6\n",
       "8          9         5\n",
       "9         10         4\n",
       "10        11         3\n",
       "11        12         2\n",
       "12        13         1"
      ]
     },
     "execution_count": 8,
     "metadata": {},
     "output_type": "execute_result"
    }
   ],
   "source": [
    "df = pd.DataFrame(df_dict)\n",
    "df.columns=['series_1','series_2']\n",
    "df"
   ]
  },
  {
   "cell_type": "markdown",
   "metadata": {
    "id": "LrYZRuJQHevf"
   },
   "source": [
    "## Q 2.3\n",
    "\n",
    "Rename column names to val_1 and val_2 respectively"
   ]
  },
  {
   "cell_type": "code",
   "execution_count": 9,
   "metadata": {
    "id": "uvBSsUqfFzLG"
   },
   "outputs": [
    {
     "data": {
      "text/html": [
       "<div>\n",
       "<style scoped>\n",
       "    .dataframe tbody tr th:only-of-type {\n",
       "        vertical-align: middle;\n",
       "    }\n",
       "\n",
       "    .dataframe tbody tr th {\n",
       "        vertical-align: top;\n",
       "    }\n",
       "\n",
       "    .dataframe thead th {\n",
       "        text-align: right;\n",
       "    }\n",
       "</style>\n",
       "<table border=\"1\" class=\"dataframe\">\n",
       "  <thead>\n",
       "    <tr style=\"text-align: right;\">\n",
       "      <th></th>\n",
       "      <th>val_1</th>\n",
       "      <th>val_2</th>\n",
       "    </tr>\n",
       "  </thead>\n",
       "  <tbody>\n",
       "    <tr>\n",
       "      <th>0</th>\n",
       "      <td>1</td>\n",
       "      <td>13</td>\n",
       "    </tr>\n",
       "    <tr>\n",
       "      <th>1</th>\n",
       "      <td>2</td>\n",
       "      <td>12</td>\n",
       "    </tr>\n",
       "    <tr>\n",
       "      <th>2</th>\n",
       "      <td>3</td>\n",
       "      <td>11</td>\n",
       "    </tr>\n",
       "    <tr>\n",
       "      <th>3</th>\n",
       "      <td>4</td>\n",
       "      <td>10</td>\n",
       "    </tr>\n",
       "    <tr>\n",
       "      <th>4</th>\n",
       "      <td>5</td>\n",
       "      <td>9</td>\n",
       "    </tr>\n",
       "    <tr>\n",
       "      <th>5</th>\n",
       "      <td>6</td>\n",
       "      <td>8</td>\n",
       "    </tr>\n",
       "    <tr>\n",
       "      <th>6</th>\n",
       "      <td>7</td>\n",
       "      <td>7</td>\n",
       "    </tr>\n",
       "    <tr>\n",
       "      <th>7</th>\n",
       "      <td>8</td>\n",
       "      <td>6</td>\n",
       "    </tr>\n",
       "    <tr>\n",
       "      <th>8</th>\n",
       "      <td>9</td>\n",
       "      <td>5</td>\n",
       "    </tr>\n",
       "    <tr>\n",
       "      <th>9</th>\n",
       "      <td>10</td>\n",
       "      <td>4</td>\n",
       "    </tr>\n",
       "    <tr>\n",
       "      <th>10</th>\n",
       "      <td>11</td>\n",
       "      <td>3</td>\n",
       "    </tr>\n",
       "    <tr>\n",
       "      <th>11</th>\n",
       "      <td>12</td>\n",
       "      <td>2</td>\n",
       "    </tr>\n",
       "    <tr>\n",
       "      <th>12</th>\n",
       "      <td>13</td>\n",
       "      <td>1</td>\n",
       "    </tr>\n",
       "  </tbody>\n",
       "</table>\n",
       "</div>"
      ],
      "text/plain": [
       "    val_1  val_2\n",
       "0       1     13\n",
       "1       2     12\n",
       "2       3     11\n",
       "3       4     10\n",
       "4       5      9\n",
       "5       6      8\n",
       "6       7      7\n",
       "7       8      6\n",
       "8       9      5\n",
       "9      10      4\n",
       "10     11      3\n",
       "11     12      2\n",
       "12     13      1"
      ]
     },
     "execution_count": 9,
     "metadata": {},
     "output_type": "execute_result"
    }
   ],
   "source": [
    "df.columns=['val_1','val_2']\n",
    "df"
   ]
  },
  {
   "cell_type": "markdown",
   "metadata": {
    "id": "V2L_BDgVH3Iz"
   },
   "source": [
    "## Q 2.4\n",
    "\n",
    "Rename index column name as index_col"
   ]
  },
  {
   "cell_type": "code",
   "execution_count": 10,
   "metadata": {
    "id": "HHtKaXKcFzNZ"
   },
   "outputs": [
    {
     "data": {
      "text/html": [
       "<div>\n",
       "<style scoped>\n",
       "    .dataframe tbody tr th:only-of-type {\n",
       "        vertical-align: middle;\n",
       "    }\n",
       "\n",
       "    .dataframe tbody tr th {\n",
       "        vertical-align: top;\n",
       "    }\n",
       "\n",
       "    .dataframe thead th {\n",
       "        text-align: right;\n",
       "    }\n",
       "</style>\n",
       "<table border=\"1\" class=\"dataframe\">\n",
       "  <thead>\n",
       "    <tr style=\"text-align: right;\">\n",
       "      <th></th>\n",
       "      <th>val_1</th>\n",
       "      <th>val_2</th>\n",
       "    </tr>\n",
       "    <tr>\n",
       "      <th>index_col</th>\n",
       "      <th></th>\n",
       "      <th></th>\n",
       "    </tr>\n",
       "  </thead>\n",
       "  <tbody>\n",
       "    <tr>\n",
       "      <th>0</th>\n",
       "      <td>1</td>\n",
       "      <td>13</td>\n",
       "    </tr>\n",
       "    <tr>\n",
       "      <th>1</th>\n",
       "      <td>2</td>\n",
       "      <td>12</td>\n",
       "    </tr>\n",
       "    <tr>\n",
       "      <th>2</th>\n",
       "      <td>3</td>\n",
       "      <td>11</td>\n",
       "    </tr>\n",
       "    <tr>\n",
       "      <th>3</th>\n",
       "      <td>4</td>\n",
       "      <td>10</td>\n",
       "    </tr>\n",
       "    <tr>\n",
       "      <th>4</th>\n",
       "      <td>5</td>\n",
       "      <td>9</td>\n",
       "    </tr>\n",
       "    <tr>\n",
       "      <th>5</th>\n",
       "      <td>6</td>\n",
       "      <td>8</td>\n",
       "    </tr>\n",
       "    <tr>\n",
       "      <th>6</th>\n",
       "      <td>7</td>\n",
       "      <td>7</td>\n",
       "    </tr>\n",
       "    <tr>\n",
       "      <th>7</th>\n",
       "      <td>8</td>\n",
       "      <td>6</td>\n",
       "    </tr>\n",
       "    <tr>\n",
       "      <th>8</th>\n",
       "      <td>9</td>\n",
       "      <td>5</td>\n",
       "    </tr>\n",
       "    <tr>\n",
       "      <th>9</th>\n",
       "      <td>10</td>\n",
       "      <td>4</td>\n",
       "    </tr>\n",
       "    <tr>\n",
       "      <th>10</th>\n",
       "      <td>11</td>\n",
       "      <td>3</td>\n",
       "    </tr>\n",
       "    <tr>\n",
       "      <th>11</th>\n",
       "      <td>12</td>\n",
       "      <td>2</td>\n",
       "    </tr>\n",
       "    <tr>\n",
       "      <th>12</th>\n",
       "      <td>13</td>\n",
       "      <td>1</td>\n",
       "    </tr>\n",
       "  </tbody>\n",
       "</table>\n",
       "</div>"
      ],
      "text/plain": [
       "           val_1  val_2\n",
       "index_col              \n",
       "0              1     13\n",
       "1              2     12\n",
       "2              3     11\n",
       "3              4     10\n",
       "4              5      9\n",
       "5              6      8\n",
       "6              7      7\n",
       "7              8      6\n",
       "8              9      5\n",
       "9             10      4\n",
       "10            11      3\n",
       "11            12      2\n",
       "12            13      1"
      ]
     },
     "execution_count": 10,
     "metadata": {},
     "output_type": "execute_result"
    }
   ],
   "source": [
    "df.index.name ='index_col'\n",
    "df"
   ]
  },
  {
   "cell_type": "markdown",
   "metadata": {
    "id": "v0RsSdgE4Fz-"
   },
   "source": [
    "# Q3: Working with Pandas data types\n",
    "\n",
    "\n"
   ]
  },
  {
   "cell_type": "markdown",
   "metadata": {
    "id": "wFStwk8IIJzs"
   },
   "source": [
    "## Q 3.1\n",
    "Create a data frame with 6 different dtypes (not necessarily in the same order)\n",
    "\n",
    ">* datetime64\n",
    ">* ndarray\n",
    ">* float64\n",
    ">* int32\n",
    ">* int64\n",
    ">* Categorical\n",
    ">* string\n",
    "\n",
    "You should demonstrate the use of pandas Series and NumPy arrays. \n",
    "Hint: Use the example done in the lecture"
   ]
  },
  {
   "cell_type": "code",
   "execution_count": 11,
   "metadata": {
    "id": "PzPl3Ai1IDhq"
   },
   "outputs": [
    {
     "data": {
      "text/html": [
       "<div>\n",
       "<style scoped>\n",
       "    .dataframe tbody tr th:only-of-type {\n",
       "        vertical-align: middle;\n",
       "    }\n",
       "\n",
       "    .dataframe tbody tr th {\n",
       "        vertical-align: top;\n",
       "    }\n",
       "\n",
       "    .dataframe thead th {\n",
       "        text-align: right;\n",
       "    }\n",
       "</style>\n",
       "<table border=\"1\" class=\"dataframe\">\n",
       "  <thead>\n",
       "    <tr style=\"text-align: right;\">\n",
       "      <th></th>\n",
       "      <th>A</th>\n",
       "      <th>C</th>\n",
       "      <th>D</th>\n",
       "      <th>G</th>\n",
       "      <th>H</th>\n",
       "      <th>cat</th>\n",
       "      <th>E</th>\n",
       "    </tr>\n",
       "  </thead>\n",
       "  <tbody>\n",
       "    <tr>\n",
       "      <th>0</th>\n",
       "      <td>0.169717</td>\n",
       "      <td>Mike</td>\n",
       "      <td>2002-05-02</td>\n",
       "      <td>4</td>\n",
       "      <td>56</td>\n",
       "      <td>a</td>\n",
       "      <td>2.0</td>\n",
       "    </tr>\n",
       "    <tr>\n",
       "      <th>1</th>\n",
       "      <td>0.257064</td>\n",
       "      <td>Harvey</td>\n",
       "      <td>2002-05-02</td>\n",
       "      <td>4</td>\n",
       "      <td>56</td>\n",
       "      <td>b</td>\n",
       "      <td>2.0</td>\n",
       "    </tr>\n",
       "    <tr>\n",
       "      <th>2</th>\n",
       "      <td>0.275386</td>\n",
       "      <td>Jake</td>\n",
       "      <td>2002-05-02</td>\n",
       "      <td>4</td>\n",
       "      <td>56</td>\n",
       "      <td>c</td>\n",
       "      <td>2.0</td>\n",
       "    </tr>\n",
       "    <tr>\n",
       "      <th>3</th>\n",
       "      <td>0.095157</td>\n",
       "      <td>Jon</td>\n",
       "      <td>2002-05-02</td>\n",
       "      <td>4</td>\n",
       "      <td>56</td>\n",
       "      <td>d</td>\n",
       "      <td>2.0</td>\n",
       "    </tr>\n",
       "    <tr>\n",
       "      <th>4</th>\n",
       "      <td>0.982684</td>\n",
       "      <td>Sam</td>\n",
       "      <td>2002-05-02</td>\n",
       "      <td>4</td>\n",
       "      <td>56</td>\n",
       "      <td>e</td>\n",
       "      <td>2.0</td>\n",
       "    </tr>\n",
       "  </tbody>\n",
       "</table>\n",
       "</div>"
      ],
      "text/plain": [
       "          A       C          D  G   H cat    E\n",
       "0  0.169717    Mike 2002-05-02  4  56   a  2.0\n",
       "1  0.257064  Harvey 2002-05-02  4  56   b  2.0\n",
       "2  0.275386    Jake 2002-05-02  4  56   c  2.0\n",
       "3  0.095157     Jon 2002-05-02  4  56   d  2.0\n",
       "4  0.982684     Sam 2002-05-02  4  56   e  2.0"
      ]
     },
     "execution_count": 11,
     "metadata": {},
     "output_type": "execute_result"
    }
   ],
   "source": [
    "df1 = pd.DataFrame(\n",
    "    {\n",
    "        \"A\": np.random.rand(5),\n",
    "        \"C\": ['Mike','Harvey','Jake','Jon','Sam'],\n",
    "        \"D\": pd.Timestamp(\"20020502\"),\n",
    "        \"G\": pd.Series([4] * 5, dtype=\"int32\"),\n",
    "        \"H\": pd.Series([56] * 5).astype(\"int64\"),\n",
    "        \"cat\": ['a','b','c','d','e'],\n",
    "        \"E\": pd.Series([2.0] * 5).astype(\"float64\")\n",
    "    }\n",
    ")\n",
    "df1"
   ]
  },
  {
   "cell_type": "markdown",
   "metadata": {
    "id": "ulrXh5DrLzWO"
   },
   "source": [
    "## Q 3.2\n",
    "\n",
    "Print the different data types"
   ]
  },
  {
   "cell_type": "code",
   "execution_count": 12,
   "metadata": {
    "id": "Vu7NzJ_0IuZU"
   },
   "outputs": [
    {
     "data": {
      "text/plain": [
       "A             float64\n",
       "C              object\n",
       "D      datetime64[ns]\n",
       "G               int32\n",
       "H               int64\n",
       "cat            object\n",
       "E             float64\n",
       "dtype: object"
      ]
     },
     "execution_count": 12,
     "metadata": {},
     "output_type": "execute_result"
    }
   ],
   "source": [
    "df1.dtypes"
   ]
  },
  {
   "cell_type": "markdown",
   "metadata": {
    "id": "Bt7u6LGDL6Cz"
   },
   "source": [
    "## Q 3.3\n",
    "\n",
    "Change col_1 data type to int32 and col_4 data type to float64"
   ]
  },
  {
   "cell_type": "code",
   "execution_count": 13,
   "metadata": {
    "id": "oYOKES2wNfVD"
   },
   "outputs": [
    {
     "data": {
      "text/plain": [
       "A               int32\n",
       "C              object\n",
       "D      datetime64[ns]\n",
       "G             float64\n",
       "H               int64\n",
       "cat            object\n",
       "E             float64\n",
       "dtype: object"
      ]
     },
     "execution_count": 13,
     "metadata": {},
     "output_type": "execute_result"
    }
   ],
   "source": [
    "df1 = df1.astype({\"A\":int,\"G\":float})\n",
    "df1.dtypes"
   ]
  },
  {
   "cell_type": "markdown",
   "metadata": {
    "id": "7k4IPC94L6SY"
   },
   "source": [
    "## Q 3.4 \n",
    "\n",
    "Create a series from the col_4"
   ]
  },
  {
   "cell_type": "code",
   "execution_count": 14,
   "metadata": {
    "id": "PLgac_dBL6rT"
   },
   "outputs": [
    {
     "data": {
      "text/plain": [
       "0    4.0\n",
       "1    4.0\n",
       "2    4.0\n",
       "3    4.0\n",
       "4    4.0\n",
       "Name: G, dtype: float64"
      ]
     },
     "execution_count": 14,
     "metadata": {},
     "output_type": "execute_result"
    }
   ],
   "source": [
    "df_series = pd.Series(df1['G'])\n",
    "df_series"
   ]
  },
  {
   "cell_type": "markdown",
   "metadata": {
    "id": "bMgzz9IGL68s"
   },
   "source": [
    "## Q 3.5\n",
    "\n",
    "Verify that the above series and dataframe are pandas series and dataframe respectively"
   ]
  },
  {
   "cell_type": "code",
   "execution_count": 15,
   "metadata": {
    "id": "vKie_N6wWlWs"
   },
   "outputs": [
    {
     "data": {
      "text/plain": [
       "True"
      ]
     },
     "execution_count": 15,
     "metadata": {},
     "output_type": "execute_result"
    }
   ],
   "source": [
    "# type your code below\n",
    "df_series.equals(df1['G'])"
   ]
  },
  {
   "cell_type": "markdown",
   "metadata": {
    "id": "eDk2RpVc4F32"
   },
   "source": [
    "# Q4: Creating a DataFrame"
   ]
  },
  {
   "cell_type": "markdown",
   "metadata": {
    "id": "FoZCt93vO6xK"
   },
   "source": [
    "## Q 4.1\n",
    "\n",
    "Create a pandas dataframe as shown below\n",
    "\n",
    "![Series vs. Dataframe ](https://drive.google.com/uc?export=view&id=1LUK-Px0uf8UkQOA4b1XhzBZzqrRLPVkt)"
   ]
  },
  {
   "cell_type": "code",
   "execution_count": 16,
   "metadata": {
    "id": "bshBHs5OkBJb"
   },
   "outputs": [
    {
     "data": {
      "text/html": [
       "<div>\n",
       "<style scoped>\n",
       "    .dataframe tbody tr th:only-of-type {\n",
       "        vertical-align: middle;\n",
       "    }\n",
       "\n",
       "    .dataframe tbody tr th {\n",
       "        vertical-align: top;\n",
       "    }\n",
       "\n",
       "    .dataframe thead th {\n",
       "        text-align: right;\n",
       "    }\n",
       "</style>\n",
       "<table border=\"1\" class=\"dataframe\">\n",
       "  <thead>\n",
       "    <tr style=\"text-align: right;\">\n",
       "      <th></th>\n",
       "      <th>student_id</th>\n",
       "      <th>student_name</th>\n",
       "      <th>student_age</th>\n",
       "      <th>student_gender</th>\n",
       "      <th>student_course</th>\n",
       "    </tr>\n",
       "  </thead>\n",
       "  <tbody>\n",
       "    <tr>\n",
       "      <th>0</th>\n",
       "      <td>2</td>\n",
       "      <td>Araceli</td>\n",
       "      <td>23</td>\n",
       "      <td>M</td>\n",
       "      <td>PP</td>\n",
       "    </tr>\n",
       "    <tr>\n",
       "      <th>1</th>\n",
       "      <td>10</td>\n",
       "      <td>Martin</td>\n",
       "      <td>45</td>\n",
       "      <td>F</td>\n",
       "      <td>EX</td>\n",
       "    </tr>\n",
       "    <tr>\n",
       "      <th>2</th>\n",
       "      <td>4</td>\n",
       "      <td>Diann</td>\n",
       "      <td>26</td>\n",
       "      <td>TG</td>\n",
       "      <td>PP</td>\n",
       "    </tr>\n",
       "    <tr>\n",
       "      <th>3</th>\n",
       "      <td>5</td>\n",
       "      <td>Stacey</td>\n",
       "      <td>32</td>\n",
       "      <td>F</td>\n",
       "      <td>NPP</td>\n",
       "    </tr>\n",
       "    <tr>\n",
       "      <th>4</th>\n",
       "      <td>1</td>\n",
       "      <td>Leticia</td>\n",
       "      <td>29</td>\n",
       "      <td>M</td>\n",
       "      <td>EX</td>\n",
       "    </tr>\n",
       "    <tr>\n",
       "      <th>5</th>\n",
       "      <td>7</td>\n",
       "      <td>Roxane</td>\n",
       "      <td>34</td>\n",
       "      <td>F</td>\n",
       "      <td>NPP</td>\n",
       "    </tr>\n",
       "    <tr>\n",
       "      <th>6</th>\n",
       "      <td>8</td>\n",
       "      <td>Venice</td>\n",
       "      <td>24</td>\n",
       "      <td>TG</td>\n",
       "      <td>PP</td>\n",
       "    </tr>\n",
       "    <tr>\n",
       "      <th>7</th>\n",
       "      <td>6</td>\n",
       "      <td>Jacq</td>\n",
       "      <td>27</td>\n",
       "      <td>F</td>\n",
       "      <td>NPP</td>\n",
       "    </tr>\n",
       "    <tr>\n",
       "      <th>8</th>\n",
       "      <td>9</td>\n",
       "      <td>Erich</td>\n",
       "      <td>38</td>\n",
       "      <td>M</td>\n",
       "      <td>PP</td>\n",
       "    </tr>\n",
       "    <tr>\n",
       "      <th>9</th>\n",
       "      <td>3</td>\n",
       "      <td>Linda</td>\n",
       "      <td>35</td>\n",
       "      <td>F</td>\n",
       "      <td>NPP</td>\n",
       "    </tr>\n",
       "  </tbody>\n",
       "</table>\n",
       "</div>"
      ],
      "text/plain": [
       "   student_id student_name  student_age student_gender student_course\n",
       "0           2      Araceli           23              M             PP\n",
       "1          10       Martin           45              F             EX\n",
       "2           4        Diann           26             TG             PP\n",
       "3           5       Stacey           32              F            NPP\n",
       "4           1      Leticia           29              M             EX\n",
       "5           7       Roxane           34              F            NPP\n",
       "6           8       Venice           24             TG             PP\n",
       "7           6         Jacq           27              F            NPP\n",
       "8           9        Erich           38              M             PP\n",
       "9           3        Linda           35              F            NPP"
      ]
     },
     "execution_count": 16,
     "metadata": {},
     "output_type": "execute_result"
    }
   ],
   "source": [
    "stds = pd.DataFrame({\n",
    "        'student_id': [2,10,4,5,1,7,8,6,9,3],\n",
    "        'student_name': ['Araceli','Martin','Diann','Stacey','Leticia','Roxane','Venice','Jacq','Erich','Linda'],\n",
    "        'student_age': [23,45,26,32,29,34,24,27,38,35],\n",
    "        'student_gender': ['M','F','TG','F','M','F','TG','F','M','F'],\n",
    "        'student_course': ['PP','EX','PP','NPP','EX','NPP','PP','NPP','PP','NPP']\n",
    "    })\n",
    "stds"
   ]
  },
  {
   "cell_type": "markdown",
   "metadata": {
    "id": "1NST898gO69h"
   },
   "source": [
    "## Q 4.2 \n",
    "\n",
    "Print the top 3 rows"
   ]
  },
  {
   "cell_type": "code",
   "execution_count": 17,
   "metadata": {
    "id": "W18YythSQgpj"
   },
   "outputs": [
    {
     "data": {
      "text/html": [
       "<div>\n",
       "<style scoped>\n",
       "    .dataframe tbody tr th:only-of-type {\n",
       "        vertical-align: middle;\n",
       "    }\n",
       "\n",
       "    .dataframe tbody tr th {\n",
       "        vertical-align: top;\n",
       "    }\n",
       "\n",
       "    .dataframe thead th {\n",
       "        text-align: right;\n",
       "    }\n",
       "</style>\n",
       "<table border=\"1\" class=\"dataframe\">\n",
       "  <thead>\n",
       "    <tr style=\"text-align: right;\">\n",
       "      <th></th>\n",
       "      <th>student_id</th>\n",
       "      <th>student_name</th>\n",
       "      <th>student_age</th>\n",
       "      <th>student_gender</th>\n",
       "      <th>student_course</th>\n",
       "    </tr>\n",
       "  </thead>\n",
       "  <tbody>\n",
       "    <tr>\n",
       "      <th>0</th>\n",
       "      <td>2</td>\n",
       "      <td>Araceli</td>\n",
       "      <td>23</td>\n",
       "      <td>M</td>\n",
       "      <td>PP</td>\n",
       "    </tr>\n",
       "    <tr>\n",
       "      <th>1</th>\n",
       "      <td>10</td>\n",
       "      <td>Martin</td>\n",
       "      <td>45</td>\n",
       "      <td>F</td>\n",
       "      <td>EX</td>\n",
       "    </tr>\n",
       "    <tr>\n",
       "      <th>2</th>\n",
       "      <td>4</td>\n",
       "      <td>Diann</td>\n",
       "      <td>26</td>\n",
       "      <td>TG</td>\n",
       "      <td>PP</td>\n",
       "    </tr>\n",
       "  </tbody>\n",
       "</table>\n",
       "</div>"
      ],
      "text/plain": [
       "   student_id student_name  student_age student_gender student_course\n",
       "0           2      Araceli           23              M             PP\n",
       "1          10       Martin           45              F             EX\n",
       "2           4        Diann           26             TG             PP"
      ]
     },
     "execution_count": 17,
     "metadata": {},
     "output_type": "execute_result"
    }
   ],
   "source": [
    "stds.head(3)"
   ]
  },
  {
   "cell_type": "markdown",
   "metadata": {
    "id": "YefFz0U5Qx8L"
   },
   "source": [
    "## Q 4.3\n",
    "\n",
    "Display the column names"
   ]
  },
  {
   "cell_type": "code",
   "execution_count": 18,
   "metadata": {
    "id": "xmqXUOIOQxOE"
   },
   "outputs": [
    {
     "data": {
      "text/plain": [
       "Index(['student_id', 'student_name', 'student_age', 'student_gender',\n",
       "       'student_course'],\n",
       "      dtype='object')"
      ]
     },
     "execution_count": 18,
     "metadata": {},
     "output_type": "execute_result"
    }
   ],
   "source": [
    "stds.columns"
   ]
  },
  {
   "cell_type": "markdown",
   "metadata": {
    "id": "eqKVKpG6Qhmu"
   },
   "source": [
    "## Q 4.4\n",
    "\n",
    "Print the bottom 4 rows"
   ]
  },
  {
   "cell_type": "code",
   "execution_count": 19,
   "metadata": {
    "id": "-s2259NAO7Da"
   },
   "outputs": [
    {
     "data": {
      "text/html": [
       "<div>\n",
       "<style scoped>\n",
       "    .dataframe tbody tr th:only-of-type {\n",
       "        vertical-align: middle;\n",
       "    }\n",
       "\n",
       "    .dataframe tbody tr th {\n",
       "        vertical-align: top;\n",
       "    }\n",
       "\n",
       "    .dataframe thead th {\n",
       "        text-align: right;\n",
       "    }\n",
       "</style>\n",
       "<table border=\"1\" class=\"dataframe\">\n",
       "  <thead>\n",
       "    <tr style=\"text-align: right;\">\n",
       "      <th></th>\n",
       "      <th>student_id</th>\n",
       "      <th>student_name</th>\n",
       "      <th>student_age</th>\n",
       "      <th>student_gender</th>\n",
       "      <th>student_course</th>\n",
       "    </tr>\n",
       "  </thead>\n",
       "  <tbody>\n",
       "    <tr>\n",
       "      <th>6</th>\n",
       "      <td>8</td>\n",
       "      <td>Venice</td>\n",
       "      <td>24</td>\n",
       "      <td>TG</td>\n",
       "      <td>PP</td>\n",
       "    </tr>\n",
       "    <tr>\n",
       "      <th>7</th>\n",
       "      <td>6</td>\n",
       "      <td>Jacq</td>\n",
       "      <td>27</td>\n",
       "      <td>F</td>\n",
       "      <td>NPP</td>\n",
       "    </tr>\n",
       "    <tr>\n",
       "      <th>8</th>\n",
       "      <td>9</td>\n",
       "      <td>Erich</td>\n",
       "      <td>38</td>\n",
       "      <td>M</td>\n",
       "      <td>PP</td>\n",
       "    </tr>\n",
       "    <tr>\n",
       "      <th>9</th>\n",
       "      <td>3</td>\n",
       "      <td>Linda</td>\n",
       "      <td>35</td>\n",
       "      <td>F</td>\n",
       "      <td>NPP</td>\n",
       "    </tr>\n",
       "  </tbody>\n",
       "</table>\n",
       "</div>"
      ],
      "text/plain": [
       "   student_id student_name  student_age student_gender student_course\n",
       "6           8       Venice           24             TG             PP\n",
       "7           6         Jacq           27              F            NPP\n",
       "8           9        Erich           38              M             PP\n",
       "9           3        Linda           35              F            NPP"
      ]
     },
     "execution_count": 19,
     "metadata": {},
     "output_type": "execute_result"
    }
   ],
   "source": [
    "stds.tail(4)"
   ]
  },
  {
   "cell_type": "markdown",
   "metadata": {
    "id": "BEF3iooMO7Iv"
   },
   "source": [
    "## Q 4.5\n",
    "\n",
    "Display the index "
   ]
  },
  {
   "cell_type": "code",
   "execution_count": 20,
   "metadata": {
    "id": "BXyf91ZoO7OK"
   },
   "outputs": [
    {
     "data": {
      "text/plain": [
       "RangeIndex(start=0, stop=10, step=1)"
      ]
     },
     "execution_count": 20,
     "metadata": {},
     "output_type": "execute_result"
    }
   ],
   "source": [
    "stds.index"
   ]
  },
  {
   "cell_type": "markdown",
   "metadata": {
    "id": "KgaqtZnq4F6m"
   },
   "source": [
    "# Q5: Dataframe to NumPy array"
   ]
  },
  {
   "cell_type": "markdown",
   "metadata": {
    "id": "QQetHfIyktuF"
   },
   "source": [
    "## Q 5.1\n",
    "\n",
    "Convert the above student records dataframe to a numpy array"
   ]
  },
  {
   "cell_type": "code",
   "execution_count": 21,
   "metadata": {
    "id": "wotw6cqSROAy"
   },
   "outputs": [
    {
     "data": {
      "text/plain": [
       "array([[2, 'Araceli', 23, 'M', 'PP'],\n",
       "       [10, 'Martin', 45, 'F', 'EX'],\n",
       "       [4, 'Diann', 26, 'TG', 'PP'],\n",
       "       [5, 'Stacey', 32, 'F', 'NPP'],\n",
       "       [1, 'Leticia', 29, 'M', 'EX'],\n",
       "       [7, 'Roxane', 34, 'F', 'NPP'],\n",
       "       [8, 'Venice', 24, 'TG', 'PP'],\n",
       "       [6, 'Jacq', 27, 'F', 'NPP'],\n",
       "       [9, 'Erich', 38, 'M', 'PP'],\n",
       "       [3, 'Linda', 35, 'F', 'NPP']], dtype=object)"
      ]
     },
     "execution_count": 21,
     "metadata": {},
     "output_type": "execute_result"
    }
   ],
   "source": [
    "stds_np = stds.to_numpy()\n",
    "stds_np"
   ]
  },
  {
   "cell_type": "markdown",
   "metadata": {
    "id": "sW5RuWV-kqav"
   },
   "source": [
    "## Q 5.2 \n",
    "Save the above numpy array to a binary file in NumPy"
   ]
  },
  {
   "cell_type": "code",
   "execution_count": 22,
   "metadata": {
    "id": "uxtj0XmakqhW"
   },
   "outputs": [],
   "source": [
    "np.save('numpy_binary', stds_np)"
   ]
  },
  {
   "cell_type": "markdown",
   "metadata": {
    "id": "SyulTwUekqmY"
   },
   "source": [
    "## Q 5.3\n",
    "\n",
    "Load the saved array and print the contents\n",
    "\n",
    "Note: Loading files that contain object arrays uses the pickle module. Check the syntax of the command how to use that."
   ]
  },
  {
   "cell_type": "code",
   "execution_count": 23,
   "metadata": {
    "id": "EsnKtcd5kqsL"
   },
   "outputs": [
    {
     "data": {
      "text/plain": [
       "array([[2, 'Araceli', 23, 'M', 'PP'],\n",
       "       [10, 'Martin', 45, 'F', 'EX'],\n",
       "       [4, 'Diann', 26, 'TG', 'PP'],\n",
       "       [5, 'Stacey', 32, 'F', 'NPP'],\n",
       "       [1, 'Leticia', 29, 'M', 'EX'],\n",
       "       [7, 'Roxane', 34, 'F', 'NPP'],\n",
       "       [8, 'Venice', 24, 'TG', 'PP'],\n",
       "       [6, 'Jacq', 27, 'F', 'NPP'],\n",
       "       [9, 'Erich', 38, 'M', 'PP'],\n",
       "       [3, 'Linda', 35, 'F', 'NPP']], dtype=object)"
      ]
     },
     "execution_count": 23,
     "metadata": {},
     "output_type": "execute_result"
    }
   ],
   "source": [
    "# type your code below\n",
    "np.load('numpy_binary.npy',allow_pickle=True)"
   ]
  },
  {
   "cell_type": "markdown",
   "metadata": {
    "id": "jIN5sMM44F9I"
   },
   "source": [
    "# Q6: Statistic Summary"
   ]
  },
  {
   "cell_type": "markdown",
   "metadata": {
    "id": "HiNfHLL1mx4e"
   },
   "source": [
    "## Q 6.1\n",
    "\n",
    "Generate statistic summary of your data"
   ]
  },
  {
   "cell_type": "code",
   "execution_count": 24,
   "metadata": {
    "id": "xKjWdtceROhC"
   },
   "outputs": [
    {
     "data": {
      "text/html": [
       "<div>\n",
       "<style scoped>\n",
       "    .dataframe tbody tr th:only-of-type {\n",
       "        vertical-align: middle;\n",
       "    }\n",
       "\n",
       "    .dataframe tbody tr th {\n",
       "        vertical-align: top;\n",
       "    }\n",
       "\n",
       "    .dataframe thead th {\n",
       "        text-align: right;\n",
       "    }\n",
       "</style>\n",
       "<table border=\"1\" class=\"dataframe\">\n",
       "  <thead>\n",
       "    <tr style=\"text-align: right;\">\n",
       "      <th></th>\n",
       "      <th>student_id</th>\n",
       "      <th>student_name</th>\n",
       "      <th>student_age</th>\n",
       "      <th>student_gender</th>\n",
       "      <th>student_course</th>\n",
       "    </tr>\n",
       "  </thead>\n",
       "  <tbody>\n",
       "    <tr>\n",
       "      <th>count</th>\n",
       "      <td>10.00000</td>\n",
       "      <td>10</td>\n",
       "      <td>10.000000</td>\n",
       "      <td>10</td>\n",
       "      <td>10</td>\n",
       "    </tr>\n",
       "    <tr>\n",
       "      <th>unique</th>\n",
       "      <td>NaN</td>\n",
       "      <td>10</td>\n",
       "      <td>NaN</td>\n",
       "      <td>3</td>\n",
       "      <td>3</td>\n",
       "    </tr>\n",
       "    <tr>\n",
       "      <th>top</th>\n",
       "      <td>NaN</td>\n",
       "      <td>Leticia</td>\n",
       "      <td>NaN</td>\n",
       "      <td>F</td>\n",
       "      <td>PP</td>\n",
       "    </tr>\n",
       "    <tr>\n",
       "      <th>freq</th>\n",
       "      <td>NaN</td>\n",
       "      <td>1</td>\n",
       "      <td>NaN</td>\n",
       "      <td>5</td>\n",
       "      <td>4</td>\n",
       "    </tr>\n",
       "    <tr>\n",
       "      <th>mean</th>\n",
       "      <td>5.50000</td>\n",
       "      <td>NaN</td>\n",
       "      <td>31.300000</td>\n",
       "      <td>NaN</td>\n",
       "      <td>NaN</td>\n",
       "    </tr>\n",
       "    <tr>\n",
       "      <th>std</th>\n",
       "      <td>3.02765</td>\n",
       "      <td>NaN</td>\n",
       "      <td>6.896859</td>\n",
       "      <td>NaN</td>\n",
       "      <td>NaN</td>\n",
       "    </tr>\n",
       "    <tr>\n",
       "      <th>min</th>\n",
       "      <td>1.00000</td>\n",
       "      <td>NaN</td>\n",
       "      <td>23.000000</td>\n",
       "      <td>NaN</td>\n",
       "      <td>NaN</td>\n",
       "    </tr>\n",
       "    <tr>\n",
       "      <th>25%</th>\n",
       "      <td>3.25000</td>\n",
       "      <td>NaN</td>\n",
       "      <td>26.250000</td>\n",
       "      <td>NaN</td>\n",
       "      <td>NaN</td>\n",
       "    </tr>\n",
       "    <tr>\n",
       "      <th>50%</th>\n",
       "      <td>5.50000</td>\n",
       "      <td>NaN</td>\n",
       "      <td>30.500000</td>\n",
       "      <td>NaN</td>\n",
       "      <td>NaN</td>\n",
       "    </tr>\n",
       "    <tr>\n",
       "      <th>75%</th>\n",
       "      <td>7.75000</td>\n",
       "      <td>NaN</td>\n",
       "      <td>34.750000</td>\n",
       "      <td>NaN</td>\n",
       "      <td>NaN</td>\n",
       "    </tr>\n",
       "    <tr>\n",
       "      <th>max</th>\n",
       "      <td>10.00000</td>\n",
       "      <td>NaN</td>\n",
       "      <td>45.000000</td>\n",
       "      <td>NaN</td>\n",
       "      <td>NaN</td>\n",
       "    </tr>\n",
       "  </tbody>\n",
       "</table>\n",
       "</div>"
      ],
      "text/plain": [
       "        student_id student_name  student_age student_gender student_course\n",
       "count     10.00000           10    10.000000             10             10\n",
       "unique         NaN           10          NaN              3              3\n",
       "top            NaN      Leticia          NaN              F             PP\n",
       "freq           NaN            1          NaN              5              4\n",
       "mean       5.50000          NaN    31.300000            NaN            NaN\n",
       "std        3.02765          NaN     6.896859            NaN            NaN\n",
       "min        1.00000          NaN    23.000000            NaN            NaN\n",
       "25%        3.25000          NaN    26.250000            NaN            NaN\n",
       "50%        5.50000          NaN    30.500000            NaN            NaN\n",
       "75%        7.75000          NaN    34.750000            NaN            NaN\n",
       "max       10.00000          NaN    45.000000            NaN            NaN"
      ]
     },
     "execution_count": 24,
     "metadata": {},
     "output_type": "execute_result"
    }
   ],
   "source": [
    "stds.describe(include='all')"
   ]
  },
  {
   "cell_type": "markdown",
   "metadata": {
    "id": "-a9jQlF8mquX"
   },
   "source": [
    "## Q 6.2 \n",
    "Explain the results you obtained above"
   ]
  },
  {
   "cell_type": "markdown",
   "metadata": {
    "id": "Ek8uT2qmm4DD"
   },
   "source": [
    "############# Write your answer below  ####################"
   ]
  },
  {
   "cell_type": "markdown",
   "metadata": {
    "id": "W7xHNsBQ4F_7"
   },
   "source": [
    "# Q7: Dataframe transpose\n",
    "\n"
   ]
  },
  {
   "cell_type": "markdown",
   "metadata": {
    "id": "DLxpHIZUhIJ5"
   },
   "source": [
    "## Q 7.1\n",
    "\n",
    "Transpose your data frame"
   ]
  },
  {
   "cell_type": "code",
   "execution_count": 25,
   "metadata": {
    "id": "l6uzmPk0hGP7"
   },
   "outputs": [
    {
     "data": {
      "text/html": [
       "<div>\n",
       "<style scoped>\n",
       "    .dataframe tbody tr th:only-of-type {\n",
       "        vertical-align: middle;\n",
       "    }\n",
       "\n",
       "    .dataframe tbody tr th {\n",
       "        vertical-align: top;\n",
       "    }\n",
       "\n",
       "    .dataframe thead th {\n",
       "        text-align: right;\n",
       "    }\n",
       "</style>\n",
       "<table border=\"1\" class=\"dataframe\">\n",
       "  <thead>\n",
       "    <tr style=\"text-align: right;\">\n",
       "      <th></th>\n",
       "      <th>0</th>\n",
       "      <th>1</th>\n",
       "      <th>2</th>\n",
       "      <th>3</th>\n",
       "      <th>4</th>\n",
       "      <th>5</th>\n",
       "      <th>6</th>\n",
       "      <th>7</th>\n",
       "      <th>8</th>\n",
       "      <th>9</th>\n",
       "    </tr>\n",
       "  </thead>\n",
       "  <tbody>\n",
       "    <tr>\n",
       "      <th>student_id</th>\n",
       "      <td>2</td>\n",
       "      <td>10</td>\n",
       "      <td>4</td>\n",
       "      <td>5</td>\n",
       "      <td>1</td>\n",
       "      <td>7</td>\n",
       "      <td>8</td>\n",
       "      <td>6</td>\n",
       "      <td>9</td>\n",
       "      <td>3</td>\n",
       "    </tr>\n",
       "    <tr>\n",
       "      <th>student_name</th>\n",
       "      <td>Araceli</td>\n",
       "      <td>Martin</td>\n",
       "      <td>Diann</td>\n",
       "      <td>Stacey</td>\n",
       "      <td>Leticia</td>\n",
       "      <td>Roxane</td>\n",
       "      <td>Venice</td>\n",
       "      <td>Jacq</td>\n",
       "      <td>Erich</td>\n",
       "      <td>Linda</td>\n",
       "    </tr>\n",
       "    <tr>\n",
       "      <th>student_age</th>\n",
       "      <td>23</td>\n",
       "      <td>45</td>\n",
       "      <td>26</td>\n",
       "      <td>32</td>\n",
       "      <td>29</td>\n",
       "      <td>34</td>\n",
       "      <td>24</td>\n",
       "      <td>27</td>\n",
       "      <td>38</td>\n",
       "      <td>35</td>\n",
       "    </tr>\n",
       "    <tr>\n",
       "      <th>student_gender</th>\n",
       "      <td>M</td>\n",
       "      <td>F</td>\n",
       "      <td>TG</td>\n",
       "      <td>F</td>\n",
       "      <td>M</td>\n",
       "      <td>F</td>\n",
       "      <td>TG</td>\n",
       "      <td>F</td>\n",
       "      <td>M</td>\n",
       "      <td>F</td>\n",
       "    </tr>\n",
       "    <tr>\n",
       "      <th>student_course</th>\n",
       "      <td>PP</td>\n",
       "      <td>EX</td>\n",
       "      <td>PP</td>\n",
       "      <td>NPP</td>\n",
       "      <td>EX</td>\n",
       "      <td>NPP</td>\n",
       "      <td>PP</td>\n",
       "      <td>NPP</td>\n",
       "      <td>PP</td>\n",
       "      <td>NPP</td>\n",
       "    </tr>\n",
       "  </tbody>\n",
       "</table>\n",
       "</div>"
      ],
      "text/plain": [
       "                      0       1      2       3        4       5       6     7  \\\n",
       "student_id            2      10      4       5        1       7       8     6   \n",
       "student_name    Araceli  Martin  Diann  Stacey  Leticia  Roxane  Venice  Jacq   \n",
       "student_age          23      45     26      32       29      34      24    27   \n",
       "student_gender        M       F     TG       F        M       F      TG     F   \n",
       "student_course       PP      EX     PP     NPP       EX     NPP      PP   NPP   \n",
       "\n",
       "                    8      9  \n",
       "student_id          9      3  \n",
       "student_name    Erich  Linda  \n",
       "student_age        38     35  \n",
       "student_gender      M      F  \n",
       "student_course     PP    NPP  "
      ]
     },
     "execution_count": 25,
     "metadata": {},
     "output_type": "execute_result"
    }
   ],
   "source": [
    "students_T = stds.T\n",
    "students_T"
   ]
  },
  {
   "cell_type": "markdown",
   "metadata": {
    "id": "0FnPqouyhKii"
   },
   "source": [
    "## Q 7.2\n",
    "\n",
    "Calculate the descriptive statistics of the transposed dataframe"
   ]
  },
  {
   "cell_type": "code",
   "execution_count": 26,
   "metadata": {
    "id": "R119MKMYhKpo"
   },
   "outputs": [
    {
     "data": {
      "text/html": [
       "<div>\n",
       "<style scoped>\n",
       "    .dataframe tbody tr th:only-of-type {\n",
       "        vertical-align: middle;\n",
       "    }\n",
       "\n",
       "    .dataframe tbody tr th {\n",
       "        vertical-align: top;\n",
       "    }\n",
       "\n",
       "    .dataframe thead th {\n",
       "        text-align: right;\n",
       "    }\n",
       "</style>\n",
       "<table border=\"1\" class=\"dataframe\">\n",
       "  <thead>\n",
       "    <tr style=\"text-align: right;\">\n",
       "      <th></th>\n",
       "      <th>0</th>\n",
       "      <th>1</th>\n",
       "      <th>2</th>\n",
       "      <th>3</th>\n",
       "      <th>4</th>\n",
       "      <th>5</th>\n",
       "      <th>6</th>\n",
       "      <th>7</th>\n",
       "      <th>8</th>\n",
       "      <th>9</th>\n",
       "    </tr>\n",
       "  </thead>\n",
       "  <tbody>\n",
       "    <tr>\n",
       "      <th>count</th>\n",
       "      <td>5</td>\n",
       "      <td>5</td>\n",
       "      <td>5</td>\n",
       "      <td>5</td>\n",
       "      <td>5</td>\n",
       "      <td>5</td>\n",
       "      <td>5</td>\n",
       "      <td>5</td>\n",
       "      <td>5</td>\n",
       "      <td>5</td>\n",
       "    </tr>\n",
       "    <tr>\n",
       "      <th>unique</th>\n",
       "      <td>5</td>\n",
       "      <td>5</td>\n",
       "      <td>5</td>\n",
       "      <td>5</td>\n",
       "      <td>5</td>\n",
       "      <td>5</td>\n",
       "      <td>5</td>\n",
       "      <td>5</td>\n",
       "      <td>5</td>\n",
       "      <td>5</td>\n",
       "    </tr>\n",
       "    <tr>\n",
       "      <th>top</th>\n",
       "      <td>Araceli</td>\n",
       "      <td>Martin</td>\n",
       "      <td>PP</td>\n",
       "      <td>32</td>\n",
       "      <td>1</td>\n",
       "      <td>34</td>\n",
       "      <td>8</td>\n",
       "      <td>Jacq</td>\n",
       "      <td>9</td>\n",
       "      <td>3</td>\n",
       "    </tr>\n",
       "    <tr>\n",
       "      <th>freq</th>\n",
       "      <td>1</td>\n",
       "      <td>1</td>\n",
       "      <td>1</td>\n",
       "      <td>1</td>\n",
       "      <td>1</td>\n",
       "      <td>1</td>\n",
       "      <td>1</td>\n",
       "      <td>1</td>\n",
       "      <td>1</td>\n",
       "      <td>1</td>\n",
       "    </tr>\n",
       "  </tbody>\n",
       "</table>\n",
       "</div>"
      ],
      "text/plain": [
       "              0       1   2   3  4   5  6     7  8  9\n",
       "count         5       5   5   5  5   5  5     5  5  5\n",
       "unique        5       5   5   5  5   5  5     5  5  5\n",
       "top     Araceli  Martin  PP  32  1  34  8  Jacq  9  3\n",
       "freq          1       1   1   1  1   1  1     1  1  1"
      ]
     },
     "execution_count": 26,
     "metadata": {},
     "output_type": "execute_result"
    }
   ],
   "source": [
    "students_T.describe(include='all')"
   ]
  },
  {
   "cell_type": "markdown",
   "metadata": {
    "id": "tflFKl2yhKzM"
   },
   "source": [
    "## Q 7.3\n",
    "\n",
    "Compare this with the initial descriptive statistics -  what do you conclude based on both descriptive startics?"
   ]
  },
  {
   "cell_type": "markdown",
   "metadata": {
    "id": "XNsrndMWnvaa"
   },
   "source": [
    "############# Write your answer below  ####################"
   ]
  },
  {
   "cell_type": "markdown",
   "metadata": {
    "id": "snhpX_Ua4GFo"
   },
   "source": [
    "# Q8: Sorting\n",
    "\n"
   ]
  },
  {
   "cell_type": "markdown",
   "metadata": {
    "id": "M279tvDrRfPy"
   },
   "source": [
    "## Q 8.1\n",
    "\n",
    "Sort the values as per column name in descending order"
   ]
  },
  {
   "cell_type": "code",
   "execution_count": 27,
   "metadata": {
    "id": "DX6r06feoLmR"
   },
   "outputs": [
    {
     "data": {
      "text/html": [
       "<div>\n",
       "<style scoped>\n",
       "    .dataframe tbody tr th:only-of-type {\n",
       "        vertical-align: middle;\n",
       "    }\n",
       "\n",
       "    .dataframe tbody tr th {\n",
       "        vertical-align: top;\n",
       "    }\n",
       "\n",
       "    .dataframe thead th {\n",
       "        text-align: right;\n",
       "    }\n",
       "</style>\n",
       "<table border=\"1\" class=\"dataframe\">\n",
       "  <thead>\n",
       "    <tr style=\"text-align: right;\">\n",
       "      <th></th>\n",
       "      <th>student_id</th>\n",
       "      <th>student_name</th>\n",
       "      <th>student_age</th>\n",
       "      <th>student_gender</th>\n",
       "      <th>student_course</th>\n",
       "    </tr>\n",
       "  </thead>\n",
       "  <tbody>\n",
       "    <tr>\n",
       "      <th>6</th>\n",
       "      <td>8</td>\n",
       "      <td>Venice</td>\n",
       "      <td>24</td>\n",
       "      <td>TG</td>\n",
       "      <td>PP</td>\n",
       "    </tr>\n",
       "    <tr>\n",
       "      <th>3</th>\n",
       "      <td>5</td>\n",
       "      <td>Stacey</td>\n",
       "      <td>32</td>\n",
       "      <td>F</td>\n",
       "      <td>NPP</td>\n",
       "    </tr>\n",
       "    <tr>\n",
       "      <th>5</th>\n",
       "      <td>7</td>\n",
       "      <td>Roxane</td>\n",
       "      <td>34</td>\n",
       "      <td>F</td>\n",
       "      <td>NPP</td>\n",
       "    </tr>\n",
       "    <tr>\n",
       "      <th>1</th>\n",
       "      <td>10</td>\n",
       "      <td>Martin</td>\n",
       "      <td>45</td>\n",
       "      <td>F</td>\n",
       "      <td>EX</td>\n",
       "    </tr>\n",
       "    <tr>\n",
       "      <th>9</th>\n",
       "      <td>3</td>\n",
       "      <td>Linda</td>\n",
       "      <td>35</td>\n",
       "      <td>F</td>\n",
       "      <td>NPP</td>\n",
       "    </tr>\n",
       "    <tr>\n",
       "      <th>4</th>\n",
       "      <td>1</td>\n",
       "      <td>Leticia</td>\n",
       "      <td>29</td>\n",
       "      <td>M</td>\n",
       "      <td>EX</td>\n",
       "    </tr>\n",
       "    <tr>\n",
       "      <th>7</th>\n",
       "      <td>6</td>\n",
       "      <td>Jacq</td>\n",
       "      <td>27</td>\n",
       "      <td>F</td>\n",
       "      <td>NPP</td>\n",
       "    </tr>\n",
       "    <tr>\n",
       "      <th>8</th>\n",
       "      <td>9</td>\n",
       "      <td>Erich</td>\n",
       "      <td>38</td>\n",
       "      <td>M</td>\n",
       "      <td>PP</td>\n",
       "    </tr>\n",
       "    <tr>\n",
       "      <th>2</th>\n",
       "      <td>4</td>\n",
       "      <td>Diann</td>\n",
       "      <td>26</td>\n",
       "      <td>TG</td>\n",
       "      <td>PP</td>\n",
       "    </tr>\n",
       "    <tr>\n",
       "      <th>0</th>\n",
       "      <td>2</td>\n",
       "      <td>Araceli</td>\n",
       "      <td>23</td>\n",
       "      <td>M</td>\n",
       "      <td>PP</td>\n",
       "    </tr>\n",
       "  </tbody>\n",
       "</table>\n",
       "</div>"
      ],
      "text/plain": [
       "   student_id student_name  student_age student_gender student_course\n",
       "6           8       Venice           24             TG             PP\n",
       "3           5       Stacey           32              F            NPP\n",
       "5           7       Roxane           34              F            NPP\n",
       "1          10       Martin           45              F             EX\n",
       "9           3        Linda           35              F            NPP\n",
       "4           1      Leticia           29              M             EX\n",
       "7           6         Jacq           27              F            NPP\n",
       "8           9        Erich           38              M             PP\n",
       "2           4        Diann           26             TG             PP\n",
       "0           2      Araceli           23              M             PP"
      ]
     },
     "execution_count": 27,
     "metadata": {},
     "output_type": "execute_result"
    }
   ],
   "source": [
    "stds.sort_values('student_name',ascending=False)"
   ]
  },
  {
   "cell_type": "markdown",
   "metadata": {
    "id": "UrQC9knCsV16"
   },
   "source": [
    "## Q 8.2\n",
    "\n",
    "Sort in descending index order"
   ]
  },
  {
   "cell_type": "code",
   "execution_count": 28,
   "metadata": {
    "id": "U4w3eYGwRiL8"
   },
   "outputs": [
    {
     "data": {
      "text/html": [
       "<div>\n",
       "<style scoped>\n",
       "    .dataframe tbody tr th:only-of-type {\n",
       "        vertical-align: middle;\n",
       "    }\n",
       "\n",
       "    .dataframe tbody tr th {\n",
       "        vertical-align: top;\n",
       "    }\n",
       "\n",
       "    .dataframe thead th {\n",
       "        text-align: right;\n",
       "    }\n",
       "</style>\n",
       "<table border=\"1\" class=\"dataframe\">\n",
       "  <thead>\n",
       "    <tr style=\"text-align: right;\">\n",
       "      <th></th>\n",
       "      <th>student_id</th>\n",
       "      <th>student_name</th>\n",
       "      <th>student_age</th>\n",
       "      <th>student_gender</th>\n",
       "      <th>student_course</th>\n",
       "    </tr>\n",
       "  </thead>\n",
       "  <tbody>\n",
       "    <tr>\n",
       "      <th>9</th>\n",
       "      <td>3</td>\n",
       "      <td>Linda</td>\n",
       "      <td>35</td>\n",
       "      <td>F</td>\n",
       "      <td>NPP</td>\n",
       "    </tr>\n",
       "    <tr>\n",
       "      <th>8</th>\n",
       "      <td>9</td>\n",
       "      <td>Erich</td>\n",
       "      <td>38</td>\n",
       "      <td>M</td>\n",
       "      <td>PP</td>\n",
       "    </tr>\n",
       "    <tr>\n",
       "      <th>7</th>\n",
       "      <td>6</td>\n",
       "      <td>Jacq</td>\n",
       "      <td>27</td>\n",
       "      <td>F</td>\n",
       "      <td>NPP</td>\n",
       "    </tr>\n",
       "    <tr>\n",
       "      <th>6</th>\n",
       "      <td>8</td>\n",
       "      <td>Venice</td>\n",
       "      <td>24</td>\n",
       "      <td>TG</td>\n",
       "      <td>PP</td>\n",
       "    </tr>\n",
       "    <tr>\n",
       "      <th>5</th>\n",
       "      <td>7</td>\n",
       "      <td>Roxane</td>\n",
       "      <td>34</td>\n",
       "      <td>F</td>\n",
       "      <td>NPP</td>\n",
       "    </tr>\n",
       "    <tr>\n",
       "      <th>4</th>\n",
       "      <td>1</td>\n",
       "      <td>Leticia</td>\n",
       "      <td>29</td>\n",
       "      <td>M</td>\n",
       "      <td>EX</td>\n",
       "    </tr>\n",
       "    <tr>\n",
       "      <th>3</th>\n",
       "      <td>5</td>\n",
       "      <td>Stacey</td>\n",
       "      <td>32</td>\n",
       "      <td>F</td>\n",
       "      <td>NPP</td>\n",
       "    </tr>\n",
       "    <tr>\n",
       "      <th>2</th>\n",
       "      <td>4</td>\n",
       "      <td>Diann</td>\n",
       "      <td>26</td>\n",
       "      <td>TG</td>\n",
       "      <td>PP</td>\n",
       "    </tr>\n",
       "    <tr>\n",
       "      <th>1</th>\n",
       "      <td>10</td>\n",
       "      <td>Martin</td>\n",
       "      <td>45</td>\n",
       "      <td>F</td>\n",
       "      <td>EX</td>\n",
       "    </tr>\n",
       "    <tr>\n",
       "      <th>0</th>\n",
       "      <td>2</td>\n",
       "      <td>Araceli</td>\n",
       "      <td>23</td>\n",
       "      <td>M</td>\n",
       "      <td>PP</td>\n",
       "    </tr>\n",
       "  </tbody>\n",
       "</table>\n",
       "</div>"
      ],
      "text/plain": [
       "   student_id student_name  student_age student_gender student_course\n",
       "9           3        Linda           35              F            NPP\n",
       "8           9        Erich           38              M             PP\n",
       "7           6         Jacq           27              F            NPP\n",
       "6           8       Venice           24             TG             PP\n",
       "5           7       Roxane           34              F            NPP\n",
       "4           1      Leticia           29              M             EX\n",
       "3           5       Stacey           32              F            NPP\n",
       "2           4        Diann           26             TG             PP\n",
       "1          10       Martin           45              F             EX\n",
       "0           2      Araceli           23              M             PP"
      ]
     },
     "execution_count": 28,
     "metadata": {},
     "output_type": "execute_result"
    }
   ],
   "source": [
    "# type your code below\n",
    "s1 = stds.sort_index(ascending=False)\n",
    "s1"
   ]
  },
  {
   "cell_type": "markdown",
   "metadata": {
    "id": "TWMVLizlsdon"
   },
   "source": [
    "## Q 8.3 \n",
    "\n",
    "Sort the values as per column name in descending order and with descending index order"
   ]
  },
  {
   "cell_type": "code",
   "execution_count": 29,
   "metadata": {
    "id": "gk5wyykmsdvs"
   },
   "outputs": [
    {
     "data": {
      "text/html": [
       "<div>\n",
       "<style scoped>\n",
       "    .dataframe tbody tr th:only-of-type {\n",
       "        vertical-align: middle;\n",
       "    }\n",
       "\n",
       "    .dataframe tbody tr th {\n",
       "        vertical-align: top;\n",
       "    }\n",
       "\n",
       "    .dataframe thead th {\n",
       "        text-align: right;\n",
       "    }\n",
       "</style>\n",
       "<table border=\"1\" class=\"dataframe\">\n",
       "  <thead>\n",
       "    <tr style=\"text-align: right;\">\n",
       "      <th></th>\n",
       "      <th>student_id</th>\n",
       "      <th>student_name</th>\n",
       "      <th>student_age</th>\n",
       "      <th>student_gender</th>\n",
       "      <th>student_course</th>\n",
       "    </tr>\n",
       "  </thead>\n",
       "  <tbody>\n",
       "    <tr>\n",
       "      <th>6</th>\n",
       "      <td>8</td>\n",
       "      <td>Venice</td>\n",
       "      <td>24</td>\n",
       "      <td>TG</td>\n",
       "      <td>PP</td>\n",
       "    </tr>\n",
       "    <tr>\n",
       "      <th>3</th>\n",
       "      <td>5</td>\n",
       "      <td>Stacey</td>\n",
       "      <td>32</td>\n",
       "      <td>F</td>\n",
       "      <td>NPP</td>\n",
       "    </tr>\n",
       "    <tr>\n",
       "      <th>5</th>\n",
       "      <td>7</td>\n",
       "      <td>Roxane</td>\n",
       "      <td>34</td>\n",
       "      <td>F</td>\n",
       "      <td>NPP</td>\n",
       "    </tr>\n",
       "    <tr>\n",
       "      <th>1</th>\n",
       "      <td>10</td>\n",
       "      <td>Martin</td>\n",
       "      <td>45</td>\n",
       "      <td>F</td>\n",
       "      <td>EX</td>\n",
       "    </tr>\n",
       "    <tr>\n",
       "      <th>9</th>\n",
       "      <td>3</td>\n",
       "      <td>Linda</td>\n",
       "      <td>35</td>\n",
       "      <td>F</td>\n",
       "      <td>NPP</td>\n",
       "    </tr>\n",
       "    <tr>\n",
       "      <th>4</th>\n",
       "      <td>1</td>\n",
       "      <td>Leticia</td>\n",
       "      <td>29</td>\n",
       "      <td>M</td>\n",
       "      <td>EX</td>\n",
       "    </tr>\n",
       "    <tr>\n",
       "      <th>7</th>\n",
       "      <td>6</td>\n",
       "      <td>Jacq</td>\n",
       "      <td>27</td>\n",
       "      <td>F</td>\n",
       "      <td>NPP</td>\n",
       "    </tr>\n",
       "    <tr>\n",
       "      <th>8</th>\n",
       "      <td>9</td>\n",
       "      <td>Erich</td>\n",
       "      <td>38</td>\n",
       "      <td>M</td>\n",
       "      <td>PP</td>\n",
       "    </tr>\n",
       "    <tr>\n",
       "      <th>2</th>\n",
       "      <td>4</td>\n",
       "      <td>Diann</td>\n",
       "      <td>26</td>\n",
       "      <td>TG</td>\n",
       "      <td>PP</td>\n",
       "    </tr>\n",
       "    <tr>\n",
       "      <th>0</th>\n",
       "      <td>2</td>\n",
       "      <td>Araceli</td>\n",
       "      <td>23</td>\n",
       "      <td>M</td>\n",
       "      <td>PP</td>\n",
       "    </tr>\n",
       "  </tbody>\n",
       "</table>\n",
       "</div>"
      ],
      "text/plain": [
       "   student_id student_name  student_age student_gender student_course\n",
       "6           8       Venice           24             TG             PP\n",
       "3           5       Stacey           32              F            NPP\n",
       "5           7       Roxane           34              F            NPP\n",
       "1          10       Martin           45              F             EX\n",
       "9           3        Linda           35              F            NPP\n",
       "4           1      Leticia           29              M             EX\n",
       "7           6         Jacq           27              F            NPP\n",
       "8           9        Erich           38              M             PP\n",
       "2           4        Diann           26             TG             PP\n",
       "0           2      Araceli           23              M             PP"
      ]
     },
     "execution_count": 29,
     "metadata": {},
     "output_type": "execute_result"
    }
   ],
   "source": [
    "s1.sort_values('student_name',ascending=False)"
   ]
  },
  {
   "cell_type": "markdown",
   "metadata": {
    "id": "IovnD4GDRiUl"
   },
   "source": [
    "## Q 8.4\n",
    "\n",
    "sort the values of your dataframe using your student id"
   ]
  },
  {
   "cell_type": "code",
   "execution_count": 30,
   "metadata": {
    "id": "SCBfkTMHRif8"
   },
   "outputs": [
    {
     "data": {
      "text/html": [
       "<div>\n",
       "<style scoped>\n",
       "    .dataframe tbody tr th:only-of-type {\n",
       "        vertical-align: middle;\n",
       "    }\n",
       "\n",
       "    .dataframe tbody tr th {\n",
       "        vertical-align: top;\n",
       "    }\n",
       "\n",
       "    .dataframe thead th {\n",
       "        text-align: right;\n",
       "    }\n",
       "</style>\n",
       "<table border=\"1\" class=\"dataframe\">\n",
       "  <thead>\n",
       "    <tr style=\"text-align: right;\">\n",
       "      <th></th>\n",
       "      <th>student_id</th>\n",
       "      <th>student_name</th>\n",
       "      <th>student_age</th>\n",
       "      <th>student_gender</th>\n",
       "      <th>student_course</th>\n",
       "    </tr>\n",
       "  </thead>\n",
       "  <tbody>\n",
       "    <tr>\n",
       "      <th>4</th>\n",
       "      <td>1</td>\n",
       "      <td>Leticia</td>\n",
       "      <td>29</td>\n",
       "      <td>M</td>\n",
       "      <td>EX</td>\n",
       "    </tr>\n",
       "    <tr>\n",
       "      <th>0</th>\n",
       "      <td>2</td>\n",
       "      <td>Araceli</td>\n",
       "      <td>23</td>\n",
       "      <td>M</td>\n",
       "      <td>PP</td>\n",
       "    </tr>\n",
       "    <tr>\n",
       "      <th>9</th>\n",
       "      <td>3</td>\n",
       "      <td>Linda</td>\n",
       "      <td>35</td>\n",
       "      <td>F</td>\n",
       "      <td>NPP</td>\n",
       "    </tr>\n",
       "    <tr>\n",
       "      <th>2</th>\n",
       "      <td>4</td>\n",
       "      <td>Diann</td>\n",
       "      <td>26</td>\n",
       "      <td>TG</td>\n",
       "      <td>PP</td>\n",
       "    </tr>\n",
       "    <tr>\n",
       "      <th>3</th>\n",
       "      <td>5</td>\n",
       "      <td>Stacey</td>\n",
       "      <td>32</td>\n",
       "      <td>F</td>\n",
       "      <td>NPP</td>\n",
       "    </tr>\n",
       "    <tr>\n",
       "      <th>7</th>\n",
       "      <td>6</td>\n",
       "      <td>Jacq</td>\n",
       "      <td>27</td>\n",
       "      <td>F</td>\n",
       "      <td>NPP</td>\n",
       "    </tr>\n",
       "    <tr>\n",
       "      <th>5</th>\n",
       "      <td>7</td>\n",
       "      <td>Roxane</td>\n",
       "      <td>34</td>\n",
       "      <td>F</td>\n",
       "      <td>NPP</td>\n",
       "    </tr>\n",
       "    <tr>\n",
       "      <th>6</th>\n",
       "      <td>8</td>\n",
       "      <td>Venice</td>\n",
       "      <td>24</td>\n",
       "      <td>TG</td>\n",
       "      <td>PP</td>\n",
       "    </tr>\n",
       "    <tr>\n",
       "      <th>8</th>\n",
       "      <td>9</td>\n",
       "      <td>Erich</td>\n",
       "      <td>38</td>\n",
       "      <td>M</td>\n",
       "      <td>PP</td>\n",
       "    </tr>\n",
       "    <tr>\n",
       "      <th>1</th>\n",
       "      <td>10</td>\n",
       "      <td>Martin</td>\n",
       "      <td>45</td>\n",
       "      <td>F</td>\n",
       "      <td>EX</td>\n",
       "    </tr>\n",
       "  </tbody>\n",
       "</table>\n",
       "</div>"
      ],
      "text/plain": [
       "   student_id student_name  student_age student_gender student_course\n",
       "4           1      Leticia           29              M             EX\n",
       "0           2      Araceli           23              M             PP\n",
       "9           3        Linda           35              F            NPP\n",
       "2           4        Diann           26             TG             PP\n",
       "3           5       Stacey           32              F            NPP\n",
       "7           6         Jacq           27              F            NPP\n",
       "5           7       Roxane           34              F            NPP\n",
       "6           8       Venice           24             TG             PP\n",
       "8           9        Erich           38              M             PP\n",
       "1          10       Martin           45              F             EX"
      ]
     },
     "execution_count": 30,
     "metadata": {},
     "output_type": "execute_result"
    }
   ],
   "source": [
    "stds.sort_values('student_id')"
   ]
  },
  {
   "cell_type": "markdown",
   "metadata": {
    "id": "ckCfk3kU4RYO"
   },
   "source": [
    "# Q9: Slicing and Selection\n",
    "\n",
    "Use iloc for the below questions"
   ]
  },
  {
   "cell_type": "markdown",
   "metadata": {
    "id": "ZK1aMA9DlJx5"
   },
   "source": [
    "\n",
    "## Q 9.1\n",
    "\n",
    "Print 2 and 4th rows "
   ]
  },
  {
   "cell_type": "code",
   "execution_count": 31,
   "metadata": {
    "id": "KkTxikAWlJ-W"
   },
   "outputs": [
    {
     "data": {
      "text/html": [
       "<div>\n",
       "<style scoped>\n",
       "    .dataframe tbody tr th:only-of-type {\n",
       "        vertical-align: middle;\n",
       "    }\n",
       "\n",
       "    .dataframe tbody tr th {\n",
       "        vertical-align: top;\n",
       "    }\n",
       "\n",
       "    .dataframe thead th {\n",
       "        text-align: right;\n",
       "    }\n",
       "</style>\n",
       "<table border=\"1\" class=\"dataframe\">\n",
       "  <thead>\n",
       "    <tr style=\"text-align: right;\">\n",
       "      <th></th>\n",
       "      <th>student_id</th>\n",
       "      <th>student_name</th>\n",
       "      <th>student_age</th>\n",
       "      <th>student_gender</th>\n",
       "      <th>student_course</th>\n",
       "    </tr>\n",
       "  </thead>\n",
       "  <tbody>\n",
       "    <tr>\n",
       "      <th>1</th>\n",
       "      <td>10</td>\n",
       "      <td>Martin</td>\n",
       "      <td>45</td>\n",
       "      <td>F</td>\n",
       "      <td>EX</td>\n",
       "    </tr>\n",
       "    <tr>\n",
       "      <th>3</th>\n",
       "      <td>5</td>\n",
       "      <td>Stacey</td>\n",
       "      <td>32</td>\n",
       "      <td>F</td>\n",
       "      <td>NPP</td>\n",
       "    </tr>\n",
       "  </tbody>\n",
       "</table>\n",
       "</div>"
      ],
      "text/plain": [
       "   student_id student_name  student_age student_gender student_course\n",
       "1          10       Martin           45              F             EX\n",
       "3           5       Stacey           32              F            NPP"
      ]
     },
     "execution_count": 31,
     "metadata": {},
     "output_type": "execute_result"
    }
   ],
   "source": [
    "stds.iloc[[1,3]]"
   ]
  },
  {
   "cell_type": "markdown",
   "metadata": {
    "id": "SUISaz4Ss7EW"
   },
   "source": [
    "## Q 9.2\n",
    "\n",
    "Display the student name and gender for 3rd and 8th record"
   ]
  },
  {
   "cell_type": "code",
   "execution_count": 32,
   "metadata": {
    "id": "29r7GToAs7Wj"
   },
   "outputs": [
    {
     "data": {
      "text/html": [
       "<div>\n",
       "<style scoped>\n",
       "    .dataframe tbody tr th:only-of-type {\n",
       "        vertical-align: middle;\n",
       "    }\n",
       "\n",
       "    .dataframe tbody tr th {\n",
       "        vertical-align: top;\n",
       "    }\n",
       "\n",
       "    .dataframe thead th {\n",
       "        text-align: right;\n",
       "    }\n",
       "</style>\n",
       "<table border=\"1\" class=\"dataframe\">\n",
       "  <thead>\n",
       "    <tr style=\"text-align: right;\">\n",
       "      <th></th>\n",
       "      <th>student_name</th>\n",
       "      <th>student_gender</th>\n",
       "    </tr>\n",
       "  </thead>\n",
       "  <tbody>\n",
       "    <tr>\n",
       "      <th>2</th>\n",
       "      <td>Diann</td>\n",
       "      <td>TG</td>\n",
       "    </tr>\n",
       "    <tr>\n",
       "      <th>7</th>\n",
       "      <td>Jacq</td>\n",
       "      <td>F</td>\n",
       "    </tr>\n",
       "  </tbody>\n",
       "</table>\n",
       "</div>"
      ],
      "text/plain": [
       "  student_name student_gender\n",
       "2        Diann             TG\n",
       "7         Jacq              F"
      ]
     },
     "execution_count": 32,
     "metadata": {},
     "output_type": "execute_result"
    }
   ],
   "source": [
    "stds.iloc[[2,7]][['student_name','student_gender']]"
   ]
  },
  {
   "cell_type": "markdown",
   "metadata": {
    "id": "QcuWZTtws7bQ"
   },
   "source": [
    "## Q 9.3 \n",
    "\n",
    "Select 2nd to 5th row and 2nd to 4th col\n"
   ]
  },
  {
   "cell_type": "code",
   "execution_count": 33,
   "metadata": {
    "id": "ywXOUc1as7hV"
   },
   "outputs": [
    {
     "data": {
      "text/html": [
       "<div>\n",
       "<style scoped>\n",
       "    .dataframe tbody tr th:only-of-type {\n",
       "        vertical-align: middle;\n",
       "    }\n",
       "\n",
       "    .dataframe tbody tr th {\n",
       "        vertical-align: top;\n",
       "    }\n",
       "\n",
       "    .dataframe thead th {\n",
       "        text-align: right;\n",
       "    }\n",
       "</style>\n",
       "<table border=\"1\" class=\"dataframe\">\n",
       "  <thead>\n",
       "    <tr style=\"text-align: right;\">\n",
       "      <th></th>\n",
       "      <th>student_name</th>\n",
       "      <th>student_age</th>\n",
       "      <th>student_gender</th>\n",
       "    </tr>\n",
       "  </thead>\n",
       "  <tbody>\n",
       "    <tr>\n",
       "      <th>1</th>\n",
       "      <td>Martin</td>\n",
       "      <td>45</td>\n",
       "      <td>F</td>\n",
       "    </tr>\n",
       "    <tr>\n",
       "      <th>2</th>\n",
       "      <td>Diann</td>\n",
       "      <td>26</td>\n",
       "      <td>TG</td>\n",
       "    </tr>\n",
       "    <tr>\n",
       "      <th>3</th>\n",
       "      <td>Stacey</td>\n",
       "      <td>32</td>\n",
       "      <td>F</td>\n",
       "    </tr>\n",
       "    <tr>\n",
       "      <th>4</th>\n",
       "      <td>Leticia</td>\n",
       "      <td>29</td>\n",
       "      <td>M</td>\n",
       "    </tr>\n",
       "  </tbody>\n",
       "</table>\n",
       "</div>"
      ],
      "text/plain": [
       "  student_name  student_age student_gender\n",
       "1       Martin           45              F\n",
       "2        Diann           26             TG\n",
       "3       Stacey           32              F\n",
       "4      Leticia           29              M"
      ]
     },
     "execution_count": 33,
     "metadata": {},
     "output_type": "execute_result"
    }
   ],
   "source": [
    "stds.iloc[1:5,1:4]"
   ]
  },
  {
   "cell_type": "markdown",
   "metadata": {
    "id": "v7FMefvHwOOP"
   },
   "source": [
    "Note: Use loc for the questions below"
   ]
  },
  {
   "cell_type": "markdown",
   "metadata": {
    "id": "U3QBSafHvtyU"
   },
   "source": [
    "## Q 9.4\n",
    "\n",
    "Display the 4th record"
   ]
  },
  {
   "cell_type": "code",
   "execution_count": 34,
   "metadata": {
    "id": "bNyoq3Q2vt65"
   },
   "outputs": [
    {
     "data": {
      "text/plain": [
       "student_id              1\n",
       "student_name      Leticia\n",
       "student_age            29\n",
       "student_gender          M\n",
       "student_course         EX\n",
       "Name: 4, dtype: object"
      ]
     },
     "execution_count": 34,
     "metadata": {},
     "output_type": "execute_result"
    }
   ],
   "source": [
    "stds.loc[4]"
   ]
  },
  {
   "cell_type": "markdown",
   "metadata": {
    "id": "C_yEcZm0vuDR"
   },
   "source": [
    "## Q 9.5 \n",
    "\n",
    "Select ONLY the student name for index = 6"
   ]
  },
  {
   "cell_type": "code",
   "execution_count": 35,
   "metadata": {
    "id": "AoaaD6rSvuIh"
   },
   "outputs": [
    {
     "data": {
      "text/plain": [
       "'Venice'"
      ]
     },
     "execution_count": 35,
     "metadata": {},
     "output_type": "execute_result"
    }
   ],
   "source": [
    "stds.loc[6]['student_name']"
   ]
  },
  {
   "cell_type": "markdown",
   "metadata": {
    "id": "bkXi27mkvuO_"
   },
   "source": [
    "# Q 10 Conditional Selection\n",
    "\n"
   ]
  },
  {
   "cell_type": "markdown",
   "metadata": {
    "id": "o-UblmVmznSn"
   },
   "source": [
    "## Q 10.1\n",
    "\n",
    "Print all students whose age is higher than or equal to 27"
   ]
  },
  {
   "cell_type": "code",
   "execution_count": 36,
   "metadata": {
    "id": "4V_XJWCPvuVG"
   },
   "outputs": [
    {
     "data": {
      "text/html": [
       "<div>\n",
       "<style scoped>\n",
       "    .dataframe tbody tr th:only-of-type {\n",
       "        vertical-align: middle;\n",
       "    }\n",
       "\n",
       "    .dataframe tbody tr th {\n",
       "        vertical-align: top;\n",
       "    }\n",
       "\n",
       "    .dataframe thead th {\n",
       "        text-align: right;\n",
       "    }\n",
       "</style>\n",
       "<table border=\"1\" class=\"dataframe\">\n",
       "  <thead>\n",
       "    <tr style=\"text-align: right;\">\n",
       "      <th></th>\n",
       "      <th>student_id</th>\n",
       "      <th>student_name</th>\n",
       "      <th>student_age</th>\n",
       "      <th>student_gender</th>\n",
       "      <th>student_course</th>\n",
       "    </tr>\n",
       "  </thead>\n",
       "  <tbody>\n",
       "    <tr>\n",
       "      <th>1</th>\n",
       "      <td>10</td>\n",
       "      <td>Martin</td>\n",
       "      <td>45</td>\n",
       "      <td>F</td>\n",
       "      <td>EX</td>\n",
       "    </tr>\n",
       "    <tr>\n",
       "      <th>3</th>\n",
       "      <td>5</td>\n",
       "      <td>Stacey</td>\n",
       "      <td>32</td>\n",
       "      <td>F</td>\n",
       "      <td>NPP</td>\n",
       "    </tr>\n",
       "    <tr>\n",
       "      <th>4</th>\n",
       "      <td>1</td>\n",
       "      <td>Leticia</td>\n",
       "      <td>29</td>\n",
       "      <td>M</td>\n",
       "      <td>EX</td>\n",
       "    </tr>\n",
       "    <tr>\n",
       "      <th>5</th>\n",
       "      <td>7</td>\n",
       "      <td>Roxane</td>\n",
       "      <td>34</td>\n",
       "      <td>F</td>\n",
       "      <td>NPP</td>\n",
       "    </tr>\n",
       "    <tr>\n",
       "      <th>7</th>\n",
       "      <td>6</td>\n",
       "      <td>Jacq</td>\n",
       "      <td>27</td>\n",
       "      <td>F</td>\n",
       "      <td>NPP</td>\n",
       "    </tr>\n",
       "    <tr>\n",
       "      <th>8</th>\n",
       "      <td>9</td>\n",
       "      <td>Erich</td>\n",
       "      <td>38</td>\n",
       "      <td>M</td>\n",
       "      <td>PP</td>\n",
       "    </tr>\n",
       "    <tr>\n",
       "      <th>9</th>\n",
       "      <td>3</td>\n",
       "      <td>Linda</td>\n",
       "      <td>35</td>\n",
       "      <td>F</td>\n",
       "      <td>NPP</td>\n",
       "    </tr>\n",
       "  </tbody>\n",
       "</table>\n",
       "</div>"
      ],
      "text/plain": [
       "   student_id student_name  student_age student_gender student_course\n",
       "1          10       Martin           45              F             EX\n",
       "3           5       Stacey           32              F            NPP\n",
       "4           1      Leticia           29              M             EX\n",
       "5           7       Roxane           34              F            NPP\n",
       "7           6         Jacq           27              F            NPP\n",
       "8           9        Erich           38              M             PP\n",
       "9           3        Linda           35              F            NPP"
      ]
     },
     "execution_count": 36,
     "metadata": {},
     "output_type": "execute_result"
    }
   ],
   "source": [
    "stds.loc[stds.student_age>=27]"
   ]
  },
  {
   "cell_type": "markdown",
   "metadata": {
    "id": "KEruBZpKzwVz"
   },
   "source": [
    "## Q 10.2\n",
    "\n",
    "Print only the student names whose age is higher than 27"
   ]
  },
  {
   "cell_type": "code",
   "execution_count": 37,
   "metadata": {
    "id": "75qOqFoyzwbS"
   },
   "outputs": [
    {
     "data": {
      "text/html": [
       "<div>\n",
       "<style scoped>\n",
       "    .dataframe tbody tr th:only-of-type {\n",
       "        vertical-align: middle;\n",
       "    }\n",
       "\n",
       "    .dataframe tbody tr th {\n",
       "        vertical-align: top;\n",
       "    }\n",
       "\n",
       "    .dataframe thead th {\n",
       "        text-align: right;\n",
       "    }\n",
       "</style>\n",
       "<table border=\"1\" class=\"dataframe\">\n",
       "  <thead>\n",
       "    <tr style=\"text-align: right;\">\n",
       "      <th></th>\n",
       "      <th>student_name</th>\n",
       "    </tr>\n",
       "  </thead>\n",
       "  <tbody>\n",
       "    <tr>\n",
       "      <th>1</th>\n",
       "      <td>Martin</td>\n",
       "    </tr>\n",
       "    <tr>\n",
       "      <th>3</th>\n",
       "      <td>Stacey</td>\n",
       "    </tr>\n",
       "    <tr>\n",
       "      <th>4</th>\n",
       "      <td>Leticia</td>\n",
       "    </tr>\n",
       "    <tr>\n",
       "      <th>5</th>\n",
       "      <td>Roxane</td>\n",
       "    </tr>\n",
       "    <tr>\n",
       "      <th>7</th>\n",
       "      <td>Jacq</td>\n",
       "    </tr>\n",
       "    <tr>\n",
       "      <th>8</th>\n",
       "      <td>Erich</td>\n",
       "    </tr>\n",
       "    <tr>\n",
       "      <th>9</th>\n",
       "      <td>Linda</td>\n",
       "    </tr>\n",
       "  </tbody>\n",
       "</table>\n",
       "</div>"
      ],
      "text/plain": [
       "  student_name\n",
       "1       Martin\n",
       "3       Stacey\n",
       "4      Leticia\n",
       "5       Roxane\n",
       "7         Jacq\n",
       "8        Erich\n",
       "9        Linda"
      ]
     },
     "execution_count": 37,
     "metadata": {},
     "output_type": "execute_result"
    }
   ],
   "source": [
    "stds.loc[stds.student_age>=27,['student_name']]"
   ]
  },
  {
   "cell_type": "markdown",
   "metadata": {
    "id": "QtXQLJ-Azwic"
   },
   "source": [
    "## Q 10.3\n",
    "\n",
    "Select records of all students whose age is higher than 27 and are males"
   ]
  },
  {
   "cell_type": "code",
   "execution_count": 38,
   "metadata": {
    "id": "KZYesAFXzwqg"
   },
   "outputs": [
    {
     "data": {
      "text/html": [
       "<div>\n",
       "<style scoped>\n",
       "    .dataframe tbody tr th:only-of-type {\n",
       "        vertical-align: middle;\n",
       "    }\n",
       "\n",
       "    .dataframe tbody tr th {\n",
       "        vertical-align: top;\n",
       "    }\n",
       "\n",
       "    .dataframe thead th {\n",
       "        text-align: right;\n",
       "    }\n",
       "</style>\n",
       "<table border=\"1\" class=\"dataframe\">\n",
       "  <thead>\n",
       "    <tr style=\"text-align: right;\">\n",
       "      <th></th>\n",
       "      <th>student_id</th>\n",
       "      <th>student_name</th>\n",
       "      <th>student_age</th>\n",
       "      <th>student_gender</th>\n",
       "      <th>student_course</th>\n",
       "    </tr>\n",
       "  </thead>\n",
       "  <tbody>\n",
       "    <tr>\n",
       "      <th>4</th>\n",
       "      <td>1</td>\n",
       "      <td>Leticia</td>\n",
       "      <td>29</td>\n",
       "      <td>M</td>\n",
       "      <td>EX</td>\n",
       "    </tr>\n",
       "    <tr>\n",
       "      <th>8</th>\n",
       "      <td>9</td>\n",
       "      <td>Erich</td>\n",
       "      <td>38</td>\n",
       "      <td>M</td>\n",
       "      <td>PP</td>\n",
       "    </tr>\n",
       "  </tbody>\n",
       "</table>\n",
       "</div>"
      ],
      "text/plain": [
       "   student_id student_name  student_age student_gender student_course\n",
       "4           1      Leticia           29              M             EX\n",
       "8           9        Erich           38              M             PP"
      ]
     },
     "execution_count": 38,
     "metadata": {},
     "output_type": "execute_result"
    }
   ],
   "source": [
    "stds.loc[(stds.student_age>=27) & (stds.student_gender=='M')]"
   ]
  },
  {
   "cell_type": "markdown",
   "metadata": {
    "id": "Mw4jlJoD5htT"
   },
   "source": [
    "## Q 10.4\n",
    "\n",
    "Select all student names which contains the letter r\n",
    "\n",
    "# type your code below\n"
   ]
  },
  {
   "cell_type": "code",
   "execution_count": 39,
   "metadata": {},
   "outputs": [
    {
     "data": {
      "text/html": [
       "<div>\n",
       "<style scoped>\n",
       "    .dataframe tbody tr th:only-of-type {\n",
       "        vertical-align: middle;\n",
       "    }\n",
       "\n",
       "    .dataframe tbody tr th {\n",
       "        vertical-align: top;\n",
       "    }\n",
       "\n",
       "    .dataframe thead th {\n",
       "        text-align: right;\n",
       "    }\n",
       "</style>\n",
       "<table border=\"1\" class=\"dataframe\">\n",
       "  <thead>\n",
       "    <tr style=\"text-align: right;\">\n",
       "      <th></th>\n",
       "      <th>student_id</th>\n",
       "      <th>student_name</th>\n",
       "      <th>student_age</th>\n",
       "      <th>student_gender</th>\n",
       "      <th>student_course</th>\n",
       "    </tr>\n",
       "  </thead>\n",
       "  <tbody>\n",
       "    <tr>\n",
       "      <th>0</th>\n",
       "      <td>2</td>\n",
       "      <td>Araceli</td>\n",
       "      <td>23</td>\n",
       "      <td>M</td>\n",
       "      <td>PP</td>\n",
       "    </tr>\n",
       "    <tr>\n",
       "      <th>1</th>\n",
       "      <td>10</td>\n",
       "      <td>Martin</td>\n",
       "      <td>45</td>\n",
       "      <td>F</td>\n",
       "      <td>EX</td>\n",
       "    </tr>\n",
       "    <tr>\n",
       "      <th>8</th>\n",
       "      <td>9</td>\n",
       "      <td>Erich</td>\n",
       "      <td>38</td>\n",
       "      <td>M</td>\n",
       "      <td>PP</td>\n",
       "    </tr>\n",
       "  </tbody>\n",
       "</table>\n",
       "</div>"
      ],
      "text/plain": [
       "   student_id student_name  student_age student_gender student_course\n",
       "0           2      Araceli           23              M             PP\n",
       "1          10       Martin           45              F             EX\n",
       "8           9        Erich           38              M             PP"
      ]
     },
     "execution_count": 39,
     "metadata": {},
     "output_type": "execute_result"
    }
   ],
   "source": [
    "import re\n",
    "stds.loc[stds['student_name'].str.contains('r', regex=True)] "
   ]
  },
  {
   "cell_type": "markdown",
   "metadata": {
    "id": "IyRtuVL-5nRK"
   },
   "source": [
    "## Q 10.5\n",
    "\n",
    "Select all student names which contains the letter r and are male"
   ]
  },
  {
   "cell_type": "code",
   "execution_count": 40,
   "metadata": {
    "id": "hTdT_kgK51oY"
   },
   "outputs": [
    {
     "data": {
      "text/html": [
       "<div>\n",
       "<style scoped>\n",
       "    .dataframe tbody tr th:only-of-type {\n",
       "        vertical-align: middle;\n",
       "    }\n",
       "\n",
       "    .dataframe tbody tr th {\n",
       "        vertical-align: top;\n",
       "    }\n",
       "\n",
       "    .dataframe thead th {\n",
       "        text-align: right;\n",
       "    }\n",
       "</style>\n",
       "<table border=\"1\" class=\"dataframe\">\n",
       "  <thead>\n",
       "    <tr style=\"text-align: right;\">\n",
       "      <th></th>\n",
       "      <th>student_id</th>\n",
       "      <th>student_name</th>\n",
       "      <th>student_age</th>\n",
       "      <th>student_gender</th>\n",
       "      <th>student_course</th>\n",
       "    </tr>\n",
       "  </thead>\n",
       "  <tbody>\n",
       "    <tr>\n",
       "      <th>0</th>\n",
       "      <td>2</td>\n",
       "      <td>Araceli</td>\n",
       "      <td>23</td>\n",
       "      <td>M</td>\n",
       "      <td>PP</td>\n",
       "    </tr>\n",
       "    <tr>\n",
       "      <th>8</th>\n",
       "      <td>9</td>\n",
       "      <td>Erich</td>\n",
       "      <td>38</td>\n",
       "      <td>M</td>\n",
       "      <td>PP</td>\n",
       "    </tr>\n",
       "  </tbody>\n",
       "</table>\n",
       "</div>"
      ],
      "text/plain": [
       "   student_id student_name  student_age student_gender student_course\n",
       "0           2      Araceli           23              M             PP\n",
       "8           9        Erich           38              M             PP"
      ]
     },
     "execution_count": 40,
     "metadata": {},
     "output_type": "execute_result"
    }
   ],
   "source": [
    "stds.loc[(stds['student_name'].str.contains('r', regex=True)) & (stds.student_gender=='M')] "
   ]
  },
  {
   "cell_type": "markdown",
   "metadata": {
    "id": "546BxlYO6Jz5"
   },
   "source": [
    "## Q 10.6\n",
    "\n",
    "Select all students whose name contains r or e (case insensitive) and are females\n",
    "\n",
    "Hinte: Use regex"
   ]
  },
  {
   "cell_type": "code",
   "execution_count": 41,
   "metadata": {
    "id": "nS8WcNU96J6Y"
   },
   "outputs": [
    {
     "data": {
      "text/html": [
       "<div>\n",
       "<style scoped>\n",
       "    .dataframe tbody tr th:only-of-type {\n",
       "        vertical-align: middle;\n",
       "    }\n",
       "\n",
       "    .dataframe tbody tr th {\n",
       "        vertical-align: top;\n",
       "    }\n",
       "\n",
       "    .dataframe thead th {\n",
       "        text-align: right;\n",
       "    }\n",
       "</style>\n",
       "<table border=\"1\" class=\"dataframe\">\n",
       "  <thead>\n",
       "    <tr style=\"text-align: right;\">\n",
       "      <th></th>\n",
       "      <th>student_id</th>\n",
       "      <th>student_name</th>\n",
       "      <th>student_age</th>\n",
       "      <th>student_gender</th>\n",
       "      <th>student_course</th>\n",
       "    </tr>\n",
       "  </thead>\n",
       "  <tbody>\n",
       "    <tr>\n",
       "      <th>0</th>\n",
       "      <td>2</td>\n",
       "      <td>Araceli</td>\n",
       "      <td>23</td>\n",
       "      <td>M</td>\n",
       "      <td>PP</td>\n",
       "    </tr>\n",
       "    <tr>\n",
       "      <th>1</th>\n",
       "      <td>10</td>\n",
       "      <td>Martin</td>\n",
       "      <td>45</td>\n",
       "      <td>F</td>\n",
       "      <td>EX</td>\n",
       "    </tr>\n",
       "    <tr>\n",
       "      <th>3</th>\n",
       "      <td>5</td>\n",
       "      <td>Stacey</td>\n",
       "      <td>32</td>\n",
       "      <td>F</td>\n",
       "      <td>NPP</td>\n",
       "    </tr>\n",
       "    <tr>\n",
       "      <th>4</th>\n",
       "      <td>1</td>\n",
       "      <td>Leticia</td>\n",
       "      <td>29</td>\n",
       "      <td>M</td>\n",
       "      <td>EX</td>\n",
       "    </tr>\n",
       "    <tr>\n",
       "      <th>5</th>\n",
       "      <td>7</td>\n",
       "      <td>Roxane</td>\n",
       "      <td>34</td>\n",
       "      <td>F</td>\n",
       "      <td>NPP</td>\n",
       "    </tr>\n",
       "    <tr>\n",
       "      <th>6</th>\n",
       "      <td>8</td>\n",
       "      <td>Venice</td>\n",
       "      <td>24</td>\n",
       "      <td>TG</td>\n",
       "      <td>PP</td>\n",
       "    </tr>\n",
       "    <tr>\n",
       "      <th>8</th>\n",
       "      <td>9</td>\n",
       "      <td>Erich</td>\n",
       "      <td>38</td>\n",
       "      <td>M</td>\n",
       "      <td>PP</td>\n",
       "    </tr>\n",
       "  </tbody>\n",
       "</table>\n",
       "</div>"
      ],
      "text/plain": [
       "   student_id student_name  student_age student_gender student_course\n",
       "0           2      Araceli           23              M             PP\n",
       "1          10       Martin           45              F             EX\n",
       "3           5       Stacey           32              F            NPP\n",
       "4           1      Leticia           29              M             EX\n",
       "5           7       Roxane           34              F            NPP\n",
       "6           8       Venice           24             TG             PP\n",
       "8           9        Erich           38              M             PP"
      ]
     },
     "execution_count": 41,
     "metadata": {},
     "output_type": "execute_result"
    }
   ],
   "source": [
    "stds.loc[stds['student_name'].str.contains('r|e', regex=True)] "
   ]
  },
  {
   "cell_type": "markdown",
   "metadata": {
    "id": "7I3PWYdo4Ra2"
   },
   "source": [
    "# Q11: Miscellaneous questions\n"
   ]
  },
  {
   "cell_type": "markdown",
   "metadata": {
    "id": "XMBQJAuH4RdX"
   },
   "source": [
    "## Q 11.1\n",
    "\n",
    "Get a list of students names from the data frame"
   ]
  },
  {
   "cell_type": "code",
   "execution_count": 42,
   "metadata": {
    "id": "-IVGkXoLs7Jx"
   },
   "outputs": [
    {
     "data": {
      "text/plain": [
       "['Araceli',\n",
       " 'Martin',\n",
       " 'Diann',\n",
       " 'Stacey',\n",
       " 'Leticia',\n",
       " 'Roxane',\n",
       " 'Venice',\n",
       " 'Jacq',\n",
       " 'Erich',\n",
       " 'Linda']"
      ]
     },
     "execution_count": 42,
     "metadata": {},
     "output_type": "execute_result"
    }
   ],
   "source": [
    "stds['student_name'].tolist()"
   ]
  },
  {
   "cell_type": "markdown",
   "metadata": {
    "id": "LCfU9Gnft3Aq"
   },
   "source": [
    "## Q 11.2\n",
    "\n",
    "Get a dictionary of students names from the data frame"
   ]
  },
  {
   "cell_type": "code",
   "execution_count": 43,
   "metadata": {
    "id": "V_ezAsss4QMJ"
   },
   "outputs": [
    {
     "name": "stdout",
     "output_type": "stream",
     "text": [
      "{'name': ['Araceli', 'Martin', 'Diann', 'Stacey', 'Leticia', 'Roxane', 'Venice', 'Jacq', 'Erich', 'Linda']}\n"
     ]
    }
   ],
   "source": [
    "df_dict = {'name':stds['student_name'].tolist()}\n",
    "print(df_dict)"
   ]
  },
  {
   "cell_type": "code",
   "execution_count": null,
   "metadata": {},
   "outputs": [],
   "source": []
  }
 ],
 "metadata": {
  "colab": {
   "name": "Pandas_DIY-SV.ipynb",
   "provenance": []
  },
  "kernelspec": {
   "display_name": "Python 3",
   "language": "python",
   "name": "python3"
  },
  "language_info": {
   "codemirror_mode": {
    "name": "ipython",
    "version": 3
   },
   "file_extension": ".py",
   "mimetype": "text/x-python",
   "name": "python",
   "nbconvert_exporter": "python",
   "pygments_lexer": "ipython3",
   "version": "3.7.3"
  }
 },
 "nbformat": 4,
 "nbformat_minor": 1
}
