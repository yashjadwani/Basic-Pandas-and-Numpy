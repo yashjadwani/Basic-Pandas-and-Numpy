{
  "cells": [
    {
      "cell_type": "code",
      "execution_count": 1,
      "id": "6d0daa75",
      "metadata": {
        "id": "6d0daa75"
      },
      "outputs": [],
      "source": [
        "import numpy as np"
      ]
    },
    {
      "cell_type": "code",
      "execution_count": 2,
      "id": "2bd04c70",
      "metadata": {
        "colab": {
          "base_uri": "https://localhost:8080/"
        },
        "id": "2bd04c70",
        "outputId": "7a24c769-5d1d-4797-8a0d-0d151ed40b87"
      },
      "outputs": [
        {
          "output_type": "execute_result",
          "data": {
            "text/plain": [
              "array([['1', '2', '3'],\n",
              "       ['4.5', '5.6', '6.0'],\n",
              "       ['a', 'b', 'c']], dtype='<U32')"
            ]
          },
          "metadata": {},
          "execution_count": 2
        }
      ],
      "source": [
        "list =[[1,2,3],[4.5,5.6,6.],['a','b','c']]\n",
        "x = np.array(list)\n",
        "x"
      ]
    },
    {
      "cell_type": "code",
      "execution_count": 3,
      "id": "5a65e4db",
      "metadata": {
        "colab": {
          "base_uri": "https://localhost:8080/"
        },
        "id": "5a65e4db",
        "outputId": "39ff4bad-878f-411a-b8a2-3323d6fcc461"
      },
      "outputs": [
        {
          "output_type": "execute_result",
          "data": {
            "text/plain": [
              "array([[[10, 10],\n",
              "        [10, 10],\n",
              "        [10, 10],\n",
              "        [10, 10]],\n",
              "\n",
              "       [[10, 10],\n",
              "        [10, 10],\n",
              "        [10, 10],\n",
              "        [10, 10]],\n",
              "\n",
              "       [[10, 10],\n",
              "        [10, 10],\n",
              "        [10, 10],\n",
              "        [10, 10]]])"
            ]
          },
          "metadata": {},
          "execution_count": 3
        }
      ],
      "source": [
        "x = np.full(shape=(3,4,2), fill_value = 10)\n",
        "x"
      ]
    },
    {
      "cell_type": "code",
      "execution_count": 4,
      "id": "35f897b2",
      "metadata": {
        "colab": {
          "base_uri": "https://localhost:8080/"
        },
        "id": "35f897b2",
        "outputId": "6572b770-25d1-4ef5-d478-e6d2e64839bb"
      },
      "outputs": [
        {
          "output_type": "execute_result",
          "data": {
            "text/plain": [
              "array([[[0, 0],\n",
              "        [0, 0]],\n",
              "\n",
              "       [[0, 0],\n",
              "        [0, 0]],\n",
              "\n",
              "       [[0, 0],\n",
              "        [0, 0]]], dtype=int32)"
            ]
          },
          "metadata": {},
          "execution_count": 4
        }
      ],
      "source": [
        "x = np.zeros(shape=(3,2,2), dtype = 'int32')\n",
        "x"
      ]
    },
    {
      "cell_type": "code",
      "execution_count": 5,
      "id": "339032d5",
      "metadata": {
        "colab": {
          "base_uri": "https://localhost:8080/"
        },
        "id": "339032d5",
        "outputId": "17a41369-dd0c-4bdf-e68e-53d4eba9f5d2"
      },
      "outputs": [
        {
          "output_type": "execute_result",
          "data": {
            "text/plain": [
              "array([[[ 1,  2],\n",
              "        [ 3,  4],\n",
              "        [ 5,  6],\n",
              "        [ 7,  8],\n",
              "        [ 9, 10]],\n",
              "\n",
              "       [[11, 12],\n",
              "        [13, 14],\n",
              "        [15, 16],\n",
              "        [17, 18],\n",
              "        [19, 20]],\n",
              "\n",
              "       [[21, 22],\n",
              "        [23, 24],\n",
              "        [25, 26],\n",
              "        [27, 28],\n",
              "        [29, 30]],\n",
              "\n",
              "       [[31, 32],\n",
              "        [33, 34],\n",
              "        [35, 36],\n",
              "        [37, 38],\n",
              "        [39, 40]],\n",
              "\n",
              "       [[41, 42],\n",
              "        [43, 44],\n",
              "        [45, 46],\n",
              "        [47, 48],\n",
              "        [49, 50]]])"
            ]
          },
          "metadata": {},
          "execution_count": 5
        }
      ],
      "source": [
        "x = np.arange(1,51,1)\n",
        "y = x.reshape(5,5,2)\n",
        "y"
      ]
    },
    {
      "cell_type": "code",
      "execution_count": 6,
      "id": "149e5023",
      "metadata": {
        "colab": {
          "base_uri": "https://localhost:8080/"
        },
        "id": "149e5023",
        "outputId": "c33be385-bc68-481a-a738-df185a4a2f0e"
      },
      "outputs": [
        {
          "output_type": "execute_result",
          "data": {
            "text/plain": [
              "array([[[35]],\n",
              "\n",
              "       [[45]]])"
            ]
          },
          "metadata": {},
          "execution_count": 6
        }
      ],
      "source": [
        "y[3:,2:3,0:1]"
      ]
    },
    {
      "cell_type": "code",
      "execution_count": 7,
      "id": "00f667ff",
      "metadata": {
        "colab": {
          "base_uri": "https://localhost:8080/"
        },
        "id": "00f667ff",
        "outputId": "16b5866f-c21f-45ff-ba15-c2155c359ecb"
      },
      "outputs": [
        {
          "output_type": "execute_result",
          "data": {
            "text/plain": [
              "array([[[ 1,  7],\n",
              "        [ 2,  8],\n",
              "        [ 3,  9]],\n",
              "\n",
              "       [[ 4, 11],\n",
              "        [ 5, 10],\n",
              "        [ 6, 12]]])"
            ]
          },
          "metadata": {},
          "execution_count": 7
        }
      ],
      "source": [
        "x = np.array([[[1,7],[2,8],[3,9]], [[4,11],[5,10],[6,12]]])\n",
        "x"
      ]
    },
    {
      "cell_type": "code",
      "execution_count": 8,
      "id": "5b38bd8b",
      "metadata": {
        "colab": {
          "base_uri": "https://localhost:8080/"
        },
        "id": "5b38bd8b",
        "outputId": "f958c348-e1a5-41be-aa65-10a63e2372e0"
      },
      "outputs": [
        {
          "output_type": "execute_result",
          "data": {
            "text/plain": [
              "array([[[ 2,  8]],\n",
              "\n",
              "       [[ 5, 10]]])"
            ]
          },
          "metadata": {},
          "execution_count": 8
        }
      ],
      "source": [
        "x[:2,1:2]"
      ]
    },
    {
      "cell_type": "code",
      "execution_count": 9,
      "id": "62f93e04",
      "metadata": {
        "colab": {
          "base_uri": "https://localhost:8080/"
        },
        "id": "62f93e04",
        "outputId": "e976e45e-4ebd-4651-fd33-814b32a5bc3c"
      },
      "outputs": [
        {
          "output_type": "stream",
          "name": "stdout",
          "text": [
            "Intial Datatye is: int64\n",
            "Changed Datatye is: complex128\n"
          ]
        },
        {
          "output_type": "execute_result",
          "data": {
            "text/plain": [
              "array([0.+0.j, 1.+0.j, 2.+0.j, 3.+0.j, 4.+0.j])"
            ]
          },
          "metadata": {},
          "execution_count": 9
        }
      ],
      "source": [
        "int_array = np.arange(5)\n",
        "print('Intial Datatye is:',int_array.dtype)\n",
        "float_array = int_array.astype('complex128')\n",
        "print('Changed Datatye is:',float_array.dtype)\n",
        "float_array"
      ]
    },
    {
      "cell_type": "code",
      "execution_count": 10,
      "id": "f1d799a8",
      "metadata": {
        "colab": {
          "base_uri": "https://localhost:8080/"
        },
        "id": "f1d799a8",
        "outputId": "145a779b-ea27-4199-b9d1-28793565b225"
      },
      "outputs": [
        {
          "output_type": "execute_result",
          "data": {
            "text/plain": [
              "3"
            ]
          },
          "metadata": {},
          "execution_count": 10
        }
      ],
      "source": [
        "y.ndim"
      ]
    },
    {
      "cell_type": "code",
      "execution_count": 11,
      "id": "fd12abb6",
      "metadata": {
        "colab": {
          "base_uri": "https://localhost:8080/"
        },
        "id": "fd12abb6",
        "outputId": "c2ef1dad-7631-4587-e7b7-09ba33db6518"
      },
      "outputs": [
        {
          "output_type": "execute_result",
          "data": {
            "text/plain": [
              "array([[1, 2],\n",
              "       [3, 4],\n",
              "       [5, 6]])"
            ]
          },
          "metadata": {},
          "execution_count": 11
        }
      ],
      "source": [
        "x = np.array([[1, 2], [3, 4], [5, 6]])\n",
        "x"
      ]
    },
    {
      "cell_type": "code",
      "execution_count": 12,
      "id": "3337bda7",
      "metadata": {
        "colab": {
          "base_uri": "https://localhost:8080/"
        },
        "id": "3337bda7",
        "outputId": "a0167de3-775a-4c46-b7de-32857330cde9"
      },
      "outputs": [
        {
          "output_type": "execute_result",
          "data": {
            "text/plain": [
              "array([1, 4, 5])"
            ]
          },
          "metadata": {},
          "execution_count": 12
        }
      ],
      "source": [
        "x[[0, 1, 2], [0, 1, 0]]"
      ]
    },
    {
      "cell_type": "code",
      "execution_count": 13,
      "id": "e8d15b43",
      "metadata": {
        "colab": {
          "base_uri": "https://localhost:8080/"
        },
        "id": "e8d15b43",
        "outputId": "b50235a4-bae0-40e5-c675-4a12a2644567"
      },
      "outputs": [
        {
          "output_type": "execute_result",
          "data": {
            "text/plain": [
              "array([[0, 1, 2],\n",
              "       [3, 4, 5],\n",
              "       [6, 7, 8]])"
            ]
          },
          "metadata": {},
          "execution_count": 13
        }
      ],
      "source": [
        "x = np.arange(9).reshape(3,3)\n",
        "x"
      ]
    },
    {
      "cell_type": "code",
      "execution_count": 14,
      "id": "e2e2c690",
      "metadata": {
        "colab": {
          "base_uri": "https://localhost:8080/"
        },
        "id": "e2e2c690",
        "outputId": "159a0576-7bdc-4478-ff4f-0b11d8f3a0b9"
      },
      "outputs": [
        {
          "output_type": "execute_result",
          "data": {
            "text/plain": [
              "array([[0., 0., 0., 0., 0.],\n",
              "       [0., 0., 0., 0., 0.],\n",
              "       [0., 0., 0., 0., 0.],\n",
              "       [0., 0., 0., 0., 0.],\n",
              "       [0., 0., 0., 0., 0.]])"
            ]
          },
          "metadata": {},
          "execution_count": 14
        }
      ],
      "source": [
        "x=np.zeros(shape=(5,5))\n",
        "x"
      ]
    },
    {
      "cell_type": "code",
      "execution_count": 15,
      "id": "c9308c64",
      "metadata": {
        "colab": {
          "base_uri": "https://localhost:8080/"
        },
        "id": "c9308c64",
        "outputId": "bbf7c137-c808-4951-e499-f307758fff3c"
      },
      "outputs": [
        {
          "output_type": "execute_result",
          "data": {
            "text/plain": [
              "array([ 0.  ,  3.75,  7.5 , 11.25, 15.  ])"
            ]
          },
          "metadata": {},
          "execution_count": 15
        }
      ],
      "source": [
        "x=np.linspace(0,15,5)\n",
        "x"
      ]
    },
    {
      "cell_type": "code",
      "execution_count": 16,
      "id": "eb284971",
      "metadata": {
        "colab": {
          "base_uri": "https://localhost:8080/"
        },
        "id": "eb284971",
        "outputId": "79b963c5-2ff0-4d7e-edf2-63c607b420cb"
      },
      "outputs": [
        {
          "output_type": "execute_result",
          "data": {
            "text/plain": [
              "array([0, 2, 4, 6, 8])"
            ]
          },
          "metadata": {},
          "execution_count": 16
        }
      ],
      "source": [
        "x=np.arange(0,10,2)\n",
        "x\n"
      ]
    },
    {
      "cell_type": "code",
      "execution_count": 17,
      "id": "476312ee",
      "metadata": {
        "id": "476312ee"
      },
      "outputs": [],
      "source": [
        "a = np.arange(10)"
      ]
    },
    {
      "cell_type": "code",
      "execution_count": 18,
      "id": "cef88e18",
      "metadata": {
        "id": "cef88e18"
      },
      "outputs": [],
      "source": [
        "b = a"
      ]
    },
    {
      "cell_type": "code",
      "execution_count": 19,
      "id": "068509a7",
      "metadata": {
        "colab": {
          "base_uri": "https://localhost:8080/"
        },
        "id": "068509a7",
        "outputId": "fca860fa-79a2-42dd-add6-5e203af3e6fd"
      },
      "outputs": [
        {
          "output_type": "execute_result",
          "data": {
            "text/plain": [
              "array([0, 1, 2, 3, 4, 5, 6, 7, 8, 9])"
            ]
          },
          "metadata": {},
          "execution_count": 19
        }
      ],
      "source": [
        "a"
      ]
    },
    {
      "cell_type": "code",
      "execution_count": 20,
      "id": "4e085adb",
      "metadata": {
        "colab": {
          "base_uri": "https://localhost:8080/"
        },
        "id": "4e085adb",
        "outputId": "dd8cc2b9-6f96-473c-b86f-e9cb67d0f402"
      },
      "outputs": [
        {
          "output_type": "execute_result",
          "data": {
            "text/plain": [
              "array([0, 1, 2, 3, 4, 5, 6, 7, 8, 9])"
            ]
          },
          "metadata": {},
          "execution_count": 20
        }
      ],
      "source": [
        "b"
      ]
    },
    {
      "cell_type": "code",
      "execution_count": 21,
      "id": "f254c240",
      "metadata": {
        "colab": {
          "base_uri": "https://localhost:8080/"
        },
        "id": "f254c240",
        "outputId": "b6f251e8-08f1-4982-ef0c-8199c6c3f1b2"
      },
      "outputs": [
        {
          "output_type": "execute_result",
          "data": {
            "text/plain": [
              "array([ 0,  1, 10,  3,  4,  5,  6,  7,  8,  9])"
            ]
          },
          "metadata": {},
          "execution_count": 21
        }
      ],
      "source": [
        "a[2] = 10\n",
        "a"
      ]
    },
    {
      "cell_type": "code",
      "execution_count": 22,
      "id": "1a0d112d",
      "metadata": {
        "colab": {
          "base_uri": "https://localhost:8080/"
        },
        "id": "1a0d112d",
        "outputId": "a6ba7379-36e4-44c7-895b-74dfbe8592b5"
      },
      "outputs": [
        {
          "output_type": "execute_result",
          "data": {
            "text/plain": [
              "array([ 0,  1, 10,  3,  4,  5,  6,  7,  8,  9])"
            ]
          },
          "metadata": {},
          "execution_count": 22
        }
      ],
      "source": [
        "b"
      ]
    },
    {
      "cell_type": "code",
      "execution_count": 23,
      "id": "e8c172ad",
      "metadata": {
        "id": "e8c172ad"
      },
      "outputs": [],
      "source": [
        "int_array = np.arange(5)\n",
        "int_array1 = int_array.astype('int32')\n",
        "\n"
      ]
    },
    {
      "cell_type": "code",
      "execution_count": 24,
      "id": "2ff99d7f",
      "metadata": {
        "colab": {
          "base_uri": "https://localhost:8080/"
        },
        "id": "2ff99d7f",
        "outputId": "091317bb-da5f-4f2e-ff9a-15739a8fde8f"
      },
      "outputs": [
        {
          "output_type": "execute_result",
          "data": {
            "text/plain": [
              "array([0, 1, 2, 3, 4])"
            ]
          },
          "metadata": {},
          "execution_count": 24
        }
      ],
      "source": [
        "int_array"
      ]
    },
    {
      "cell_type": "code",
      "execution_count": 25,
      "id": "6b02a483",
      "metadata": {
        "colab": {
          "base_uri": "https://localhost:8080/"
        },
        "id": "6b02a483",
        "outputId": "c4affb0e-feb6-43b1-dc89-57aad31ee759"
      },
      "outputs": [
        {
          "output_type": "execute_result",
          "data": {
            "text/plain": [
              "array([0, 1, 2, 3, 4], dtype=int32)"
            ]
          },
          "metadata": {},
          "execution_count": 25
        }
      ],
      "source": [
        "int_array1"
      ]
    },
    {
      "cell_type": "code",
      "execution_count": 26,
      "id": "82b96b8f",
      "metadata": {
        "id": "82b96b8f"
      },
      "outputs": [],
      "source": [
        "int_array[1] = 10"
      ]
    },
    {
      "cell_type": "code",
      "execution_count": 27,
      "id": "d2f41258",
      "metadata": {
        "colab": {
          "base_uri": "https://localhost:8080/"
        },
        "id": "d2f41258",
        "outputId": "727be38e-4795-408d-867c-083b2d4e7db5"
      },
      "outputs": [
        {
          "output_type": "execute_result",
          "data": {
            "text/plain": [
              "array([ 0, 10,  2,  3,  4])"
            ]
          },
          "metadata": {},
          "execution_count": 27
        }
      ],
      "source": [
        "int_array"
      ]
    },
    {
      "cell_type": "code",
      "execution_count": 28,
      "id": "a00a6726",
      "metadata": {
        "colab": {
          "base_uri": "https://localhost:8080/"
        },
        "id": "a00a6726",
        "outputId": "984cf029-71d1-4172-bb7d-d0f2bef6068e"
      },
      "outputs": [
        {
          "output_type": "execute_result",
          "data": {
            "text/plain": [
              "array([0, 1, 2, 3, 4], dtype=int32)"
            ]
          },
          "metadata": {},
          "execution_count": 28
        }
      ],
      "source": [
        "int_array1"
      ]
    },
    {
      "cell_type": "code",
      "execution_count": 29,
      "id": "26bdddd0",
      "metadata": {
        "colab": {
          "base_uri": "https://localhost:8080/"
        },
        "id": "26bdddd0",
        "outputId": "f7f166bd-a5fb-44a6-abc7-8bfca811638d"
      },
      "outputs": [
        {
          "output_type": "execute_result",
          "data": {
            "text/plain": [
              "array([[[ 5,  2],\n",
              "        [ 3,  4],\n",
              "        [ 5,  6],\n",
              "        [ 7,  8],\n",
              "        [ 9, 10]],\n",
              "\n",
              "       [[11, 12],\n",
              "        [13, 14],\n",
              "        [15, 16],\n",
              "        [17, 18],\n",
              "        [19, 20]],\n",
              "\n",
              "       [[21, 22],\n",
              "        [23, 24],\n",
              "        [25, 26],\n",
              "        [27, 28],\n",
              "        [29, 30]],\n",
              "\n",
              "       [[31, 32],\n",
              "        [33, 34],\n",
              "        [35, 36],\n",
              "        [37, 38],\n",
              "        [39, 40]],\n",
              "\n",
              "       [[41, 42],\n",
              "        [43, 44],\n",
              "        [45, 46],\n",
              "        [47, 48],\n",
              "        [49, 50]]])"
            ]
          },
          "metadata": {},
          "execution_count": 29
        }
      ],
      "source": [
        "x = np.arange(1,51,1)\n",
        "y = x.reshape(5,5,2)\n",
        "y[0][0][0] = 5\n",
        "y"
      ]
    },
    {
      "cell_type": "code",
      "execution_count": 30,
      "id": "9035b3fd",
      "metadata": {
        "colab": {
          "base_uri": "https://localhost:8080/"
        },
        "id": "9035b3fd",
        "outputId": "21ed891f-b49f-4869-b4f1-cdab7268d61d"
      },
      "outputs": [
        {
          "output_type": "execute_result",
          "data": {
            "text/plain": [
              "array([[[ 5,  2],\n",
              "        [ 3,  4],\n",
              "        [ 5,  6],\n",
              "        [ 7,  8],\n",
              "        [ 9, 10]],\n",
              "\n",
              "       [[11, 12],\n",
              "        [13, 14],\n",
              "        [15, 16],\n",
              "        [17, 18],\n",
              "        [19, 20]],\n",
              "\n",
              "       [[21, 22],\n",
              "        [23, 24],\n",
              "        [25, 26],\n",
              "        [27, 28],\n",
              "        [29, 30]],\n",
              "\n",
              "       [[31, 32],\n",
              "        [33, 34],\n",
              "        [35, 36],\n",
              "        [37, 38],\n",
              "        [39, 40]],\n",
              "\n",
              "       [[41, 42],\n",
              "        [43, 44],\n",
              "        [45, 46],\n",
              "        [47, 48],\n",
              "        [49, 50]]])"
            ]
          },
          "metadata": {},
          "execution_count": 30
        }
      ],
      "source": [
        "np.sort(y,axis=0)"
      ]
    },
    {
      "cell_type": "code",
      "execution_count": 31,
      "id": "d0d148a0",
      "metadata": {
        "id": "d0d148a0"
      },
      "outputs": [],
      "source": [
        "x  = np.arange(10).reshape(2,5)\n",
        "y = np.arange(10).reshape(2,5)"
      ]
    },
    {
      "cell_type": "code",
      "execution_count": 32,
      "id": "fb7af1ae",
      "metadata": {
        "colab": {
          "base_uri": "https://localhost:8080/"
        },
        "id": "fb7af1ae",
        "outputId": "5dd767e3-f214-4184-c4bc-1e512a07038c"
      },
      "outputs": [
        {
          "output_type": "execute_result",
          "data": {
            "text/plain": [
              "array([[11,  1,  2,  3,  4],\n",
              "       [10,  6,  7,  8,  9]])"
            ]
          },
          "metadata": {},
          "execution_count": 32
        }
      ],
      "source": [
        "x[0][0]=11\n",
        "x[1][0]=10\n",
        "x"
      ]
    },
    {
      "cell_type": "code",
      "execution_count": 33,
      "id": "96619bbb",
      "metadata": {
        "colab": {
          "base_uri": "https://localhost:8080/"
        },
        "id": "96619bbb",
        "outputId": "5ddd0a2e-5c9a-406c-b588-37d7a1cbdf17"
      },
      "outputs": [
        {
          "output_type": "execute_result",
          "data": {
            "text/plain": [
              "array([[ 1,  2,  3,  4, 11],\n",
              "       [ 6,  7,  8,  9, 10]])"
            ]
          },
          "metadata": {},
          "execution_count": 33
        }
      ],
      "source": [
        "np.sort(x)"
      ]
    },
    {
      "cell_type": "code",
      "execution_count": 34,
      "id": "48fc63c6",
      "metadata": {
        "colab": {
          "base_uri": "https://localhost:8080/"
        },
        "id": "48fc63c6",
        "outputId": "ed9a9c44-6dcd-426b-b8c4-5927405e7ed8"
      },
      "outputs": [
        {
          "output_type": "execute_result",
          "data": {
            "text/plain": [
              "array([[10,  1,  2,  3,  4],\n",
              "       [11,  6,  7,  8,  9]])"
            ]
          },
          "metadata": {},
          "execution_count": 34
        }
      ],
      "source": [
        "np.sort(x,axis=0)"
      ]
    },
    {
      "cell_type": "code",
      "execution_count": 35,
      "id": "353e75f5",
      "metadata": {
        "colab": {
          "base_uri": "https://localhost:8080/"
        },
        "id": "353e75f5",
        "outputId": "db4f462b-59b4-4956-f4ec-bd484dace3e0"
      },
      "outputs": [
        {
          "output_type": "execute_result",
          "data": {
            "text/plain": [
              "array([[ 1,  2,  3,  4, 11],\n",
              "       [ 6,  7,  8,  9, 10]])"
            ]
          },
          "metadata": {},
          "execution_count": 35
        }
      ],
      "source": [
        "np.sort(x,axis=1)"
      ]
    },
    {
      "cell_type": "code",
      "execution_count": 36,
      "id": "974a2552",
      "metadata": {
        "id": "974a2552"
      },
      "outputs": [],
      "source": [
        "x.sort()"
      ]
    },
    {
      "cell_type": "code",
      "execution_count": 37,
      "id": "93c9f6a0",
      "metadata": {
        "colab": {
          "base_uri": "https://localhost:8080/"
        },
        "id": "93c9f6a0",
        "outputId": "ea227f2d-1726-4174-dbf0-207d412980c5"
      },
      "outputs": [
        {
          "output_type": "execute_result",
          "data": {
            "text/plain": [
              "array([[ 1,  2,  3,  4, 11],\n",
              "       [ 6,  7,  8,  9, 10]])"
            ]
          },
          "metadata": {},
          "execution_count": 37
        }
      ],
      "source": [
        "x"
      ]
    },
    {
      "cell_type": "code",
      "execution_count": 38,
      "id": "eec461a3",
      "metadata": {
        "colab": {
          "base_uri": "https://localhost:8080/"
        },
        "id": "eec461a3",
        "outputId": "7ba953af-ae60-4995-86c4-6a16130d2a64"
      },
      "outputs": [
        {
          "output_type": "execute_result",
          "data": {
            "text/plain": [
              "array([[ 1,  2,  3,  4, 11,  0,  1,  2,  3,  4],\n",
              "       [ 6,  7,  8,  9, 10,  5,  6,  7,  8,  9]])"
            ]
          },
          "metadata": {},
          "execution_count": 38
        }
      ],
      "source": [
        "np.concatenate((x,y),axis=1)"
      ]
    },
    {
      "cell_type": "code",
      "execution_count": 39,
      "id": "a51f9bc3",
      "metadata": {
        "colab": {
          "base_uri": "https://localhost:8080/"
        },
        "id": "a51f9bc3",
        "outputId": "f0e023f8-a27d-4a79-e4b1-b2a880aad57b"
      },
      "outputs": [
        {
          "output_type": "execute_result",
          "data": {
            "text/plain": [
              "array([[ 1,  2,  3,  4, 11],\n",
              "       [ 6,  7,  8,  9, 10],\n",
              "       [ 0,  1,  2,  3,  4],\n",
              "       [ 5,  6,  7,  8,  9]])"
            ]
          },
          "metadata": {},
          "execution_count": 39
        }
      ],
      "source": [
        "np.concatenate((x,y),axis=0)"
      ]
    },
    {
      "cell_type": "code",
      "execution_count": 40,
      "id": "c417d2ef",
      "metadata": {
        "colab": {
          "base_uri": "https://localhost:8080/"
        },
        "id": "c417d2ef",
        "outputId": "bb5d1c46-446c-4caa-b5f7-a70269042e28"
      },
      "outputs": [
        {
          "output_type": "execute_result",
          "data": {
            "text/plain": [
              "array([[ 1,  2,  3,  4, 11,  0,  1,  2,  3,  4],\n",
              "       [ 6,  7,  8,  9, 10,  5,  6,  7,  8,  9]])"
            ]
          },
          "metadata": {},
          "execution_count": 40
        }
      ],
      "source": [
        "np.hstack((x,y))"
      ]
    },
    {
      "cell_type": "code",
      "execution_count": 41,
      "id": "2d6347b6",
      "metadata": {
        "colab": {
          "base_uri": "https://localhost:8080/"
        },
        "id": "2d6347b6",
        "outputId": "734cff88-b1c2-4244-fd18-334a7f68cdff"
      },
      "outputs": [
        {
          "output_type": "execute_result",
          "data": {
            "text/plain": [
              "array([[ 1,  2,  3,  4, 11],\n",
              "       [ 6,  7,  8,  9, 10],\n",
              "       [ 0,  1,  2,  3,  4],\n",
              "       [ 5,  6,  7,  8,  9]])"
            ]
          },
          "metadata": {},
          "execution_count": 41
        }
      ],
      "source": [
        "np.vstack((x,y))"
      ]
    },
    {
      "cell_type": "code",
      "execution_count": 42,
      "id": "bf4c6a9c",
      "metadata": {
        "colab": {
          "base_uri": "https://localhost:8080/"
        },
        "id": "bf4c6a9c",
        "outputId": "7c562908-4620-4a1f-8e47-abcae89ad5af"
      },
      "outputs": [
        {
          "output_type": "execute_result",
          "data": {
            "text/plain": [
              "array([[ 1,  2,  3,  4, 11],\n",
              "       [ 6,  7,  8,  9, 10]])"
            ]
          },
          "metadata": {},
          "execution_count": 42
        }
      ],
      "source": [
        "x"
      ]
    },
    {
      "cell_type": "code",
      "execution_count": 43,
      "id": "ae1f2879",
      "metadata": {
        "colab": {
          "base_uri": "https://localhost:8080/"
        },
        "id": "ae1f2879",
        "outputId": "6a469c93-07b2-439f-b6d2-4c2996e88831"
      },
      "outputs": [
        {
          "output_type": "execute_result",
          "data": {
            "text/plain": [
              "array([[ 1,  6],\n",
              "       [ 2,  7],\n",
              "       [ 3,  8],\n",
              "       [ 4,  9],\n",
              "       [11, 10]])"
            ]
          },
          "metadata": {},
          "execution_count": 43
        }
      ],
      "source": [
        "x.transpose()"
      ]
    },
    {
      "cell_type": "code",
      "execution_count": 44,
      "id": "69c4aaa9",
      "metadata": {
        "colab": {
          "base_uri": "https://localhost:8080/"
        },
        "id": "69c4aaa9",
        "outputId": "c18bd2ea-582e-48bc-c3c2-23d26bbdc7f8"
      },
      "outputs": [
        {
          "output_type": "execute_result",
          "data": {
            "text/plain": [
              "array([ 1,  2,  3,  4, 11,  6,  7,  8,  9, 10])"
            ]
          },
          "metadata": {},
          "execution_count": 44
        }
      ],
      "source": [
        "x.flatten()"
      ]
    },
    {
      "cell_type": "code",
      "execution_count": 45,
      "id": "01239bca",
      "metadata": {
        "colab": {
          "base_uri": "https://localhost:8080/"
        },
        "id": "01239bca",
        "outputId": "4ff6f0c4-02a3-4198-84ee-695dd6fcdcab"
      },
      "outputs": [
        {
          "output_type": "execute_result",
          "data": {
            "text/plain": [
              "array([[ 1,  2,  3,  4, 11],\n",
              "       [ 6,  7,  8,  9, 10]])"
            ]
          },
          "metadata": {},
          "execution_count": 45
        }
      ],
      "source": [
        "x"
      ]
    },
    {
      "cell_type": "code",
      "execution_count": 46,
      "id": "928b0224",
      "metadata": {
        "colab": {
          "base_uri": "https://localhost:8080/"
        },
        "id": "928b0224",
        "outputId": "e160f3e6-f283-4b63-9530-b496879827cc"
      },
      "outputs": [
        {
          "output_type": "execute_result",
          "data": {
            "text/plain": [
              "array([ 1,  2,  3,  4, 11,  6,  7,  8,  9, 10])"
            ]
          },
          "metadata": {},
          "execution_count": 46
        }
      ],
      "source": [
        "np.hstack((x[0],x[1]))"
      ]
    },
    {
      "cell_type": "code",
      "execution_count": 47,
      "id": "836cc28c",
      "metadata": {
        "colab": {
          "base_uri": "https://localhost:8080/"
        },
        "id": "836cc28c",
        "outputId": "c3ac1391-27a8-4ef4-90a1-591ec7030b00"
      },
      "outputs": [
        {
          "output_type": "execute_result",
          "data": {
            "text/plain": [
              "array([[ 1,  2,  3,  4, 11],\n",
              "       [ 6,  7,  8,  9, 10]])"
            ]
          },
          "metadata": {},
          "execution_count": 47
        }
      ],
      "source": [
        "x"
      ]
    },
    {
      "cell_type": "code",
      "execution_count": 48,
      "id": "a9384ac9",
      "metadata": {
        "colab": {
          "base_uri": "https://localhost:8080/"
        },
        "id": "a9384ac9",
        "outputId": "c7b5894b-b275-447e-fb42-cbe38c7f57c8"
      },
      "outputs": [
        {
          "output_type": "execute_result",
          "data": {
            "text/plain": [
              "array([[10,  9,  8,  7,  6],\n",
              "       [11,  4,  3,  2,  1]])"
            ]
          },
          "metadata": {},
          "execution_count": 48
        }
      ],
      "source": [
        "np.flip(x) ## Both Rows and Columns"
      ]
    },
    {
      "cell_type": "code",
      "execution_count": 49,
      "id": "ce04a730",
      "metadata": {
        "colab": {
          "base_uri": "https://localhost:8080/"
        },
        "id": "ce04a730",
        "outputId": "07139990-bf04-4d5d-dc38-d5013a29e2b4"
      },
      "outputs": [
        {
          "output_type": "execute_result",
          "data": {
            "text/plain": [
              "array([[ 6,  7,  8,  9, 10],\n",
              "       [ 1,  2,  3,  4, 11]])"
            ]
          },
          "metadata": {},
          "execution_count": 49
        }
      ],
      "source": [
        "np.flip(x,axis=0) ## Only Rows"
      ]
    },
    {
      "cell_type": "code",
      "execution_count": 50,
      "id": "f5eca11f",
      "metadata": {
        "colab": {
          "base_uri": "https://localhost:8080/"
        },
        "id": "f5eca11f",
        "outputId": "fe1c4db4-4065-4ef0-aca0-27ee2d179a84"
      },
      "outputs": [
        {
          "output_type": "execute_result",
          "data": {
            "text/plain": [
              "array([[11,  4,  3,  2,  1],\n",
              "       [10,  9,  8,  7,  6]])"
            ]
          },
          "metadata": {},
          "execution_count": 50
        }
      ],
      "source": [
        "np.flip(x,axis=1) ## Only Columns"
      ]
    },
    {
      "cell_type": "code",
      "execution_count": 51,
      "id": "4ac0a032",
      "metadata": {
        "colab": {
          "base_uri": "https://localhost:8080/"
        },
        "id": "4ac0a032",
        "outputId": "308bc152-9079-4afd-85c8-6651673a5137"
      },
      "outputs": [
        {
          "output_type": "execute_result",
          "data": {
            "text/plain": [
              "array([[ 1,  2,  3,  4, 11],\n",
              "       [ 6,  7,  8,  9, 10]])"
            ]
          },
          "metadata": {},
          "execution_count": 51
        }
      ],
      "source": [
        "x"
      ]
    },
    {
      "cell_type": "code",
      "execution_count": 52,
      "id": "71d2a1ff",
      "metadata": {
        "colab": {
          "base_uri": "https://localhost:8080/"
        },
        "id": "71d2a1ff",
        "outputId": "56e8e727-4042-40be-a0bb-0542b6b083ce"
      },
      "outputs": [
        {
          "output_type": "execute_result",
          "data": {
            "text/plain": [
              "array([ 1,  2,  3,  4, 11,  6,  7,  8,  9, 10])"
            ]
          },
          "metadata": {},
          "execution_count": 52
        }
      ],
      "source": [
        "y = np.ravel(x) ## faltten vs Ravel\n",
        "y"
      ]
    },
    {
      "cell_type": "code",
      "execution_count": 53,
      "id": "9d23f1b4",
      "metadata": {
        "colab": {
          "base_uri": "https://localhost:8080/"
        },
        "id": "9d23f1b4",
        "outputId": "20cbe41f-a9d2-4c49-e447-2d207ebfbd53"
      },
      "outputs": [
        {
          "output_type": "execute_result",
          "data": {
            "text/plain": [
              "array([ 1,  2, 33,  4, 11,  6,  7,  8,  9, 10])"
            ]
          },
          "metadata": {},
          "execution_count": 53
        }
      ],
      "source": [
        "y[2] = 33\n",
        "y\n"
      ]
    },
    {
      "cell_type": "code",
      "execution_count": 54,
      "id": "76e2cdcd",
      "metadata": {
        "colab": {
          "base_uri": "https://localhost:8080/"
        },
        "id": "76e2cdcd",
        "outputId": "720b18dc-58a4-47bd-d491-255206eb0bf5"
      },
      "outputs": [
        {
          "output_type": "execute_result",
          "data": {
            "text/plain": [
              "array([[ 1,  2, 33,  4, 11],\n",
              "       [ 6,  7,  8,  9, 10]])"
            ]
          },
          "metadata": {},
          "execution_count": 54
        }
      ],
      "source": [
        "x"
      ]
    },
    {
      "cell_type": "code",
      "execution_count": 55,
      "id": "2c03b7eb",
      "metadata": {
        "id": "2c03b7eb"
      },
      "outputs": [],
      "source": [
        "?np.random.uniform"
      ]
    },
    {
      "cell_type": "code",
      "execution_count": 56,
      "id": "2db528a6",
      "metadata": {
        "colab": {
          "base_uri": "https://localhost:8080/"
        },
        "id": "2db528a6",
        "outputId": "664fd75a-2cd7-486b-dcae-b6f83aa8893e"
      },
      "outputs": [
        {
          "output_type": "execute_result",
          "data": {
            "text/plain": [
              "array([[ 1,  2, 33,  4, 11],\n",
              "       [ 6,  7,  8,  9, 10]])"
            ]
          },
          "metadata": {},
          "execution_count": 56
        }
      ],
      "source": [
        "x"
      ]
    },
    {
      "cell_type": "code",
      "execution_count": 57,
      "id": "fb8e985b",
      "metadata": {
        "id": "fb8e985b"
      },
      "outputs": [],
      "source": [
        "x = [[1,2],[5,6]]\n",
        "y = [[2,5],[7,8]]\n",
        "x = np.array(x)\n",
        "y = np.array(y)"
      ]
    },
    {
      "cell_type": "code",
      "execution_count": 58,
      "id": "b447c678",
      "metadata": {
        "colab": {
          "base_uri": "https://localhost:8080/"
        },
        "id": "b447c678",
        "outputId": "2502c185-2348-446a-9b0a-47111d7d9abf"
      },
      "outputs": [
        {
          "output_type": "execute_result",
          "data": {
            "text/plain": [
              "array([[1, 2],\n",
              "       [5, 6]])"
            ]
          },
          "metadata": {},
          "execution_count": 58
        }
      ],
      "source": [
        "x"
      ]
    },
    {
      "cell_type": "code",
      "execution_count": 59,
      "id": "05ac96e1",
      "metadata": {
        "colab": {
          "base_uri": "https://localhost:8080/"
        },
        "id": "05ac96e1",
        "outputId": "eb61ff44-085f-4ea4-da31-35f954b218da"
      },
      "outputs": [
        {
          "output_type": "execute_result",
          "data": {
            "text/plain": [
              "array([[2, 5],\n",
              "       [7, 8]])"
            ]
          },
          "metadata": {},
          "execution_count": 59
        }
      ],
      "source": [
        "y"
      ]
    },
    {
      "cell_type": "code",
      "execution_count": 60,
      "id": "c1698a17",
      "metadata": {
        "colab": {
          "base_uri": "https://localhost:8080/"
        },
        "id": "c1698a17",
        "outputId": "134f795f-88ea-4eab-a377-989dde8f4a14"
      },
      "outputs": [
        {
          "output_type": "execute_result",
          "data": {
            "text/plain": [
              "array([[16, 21],\n",
              "       [52, 73]])"
            ]
          },
          "metadata": {},
          "execution_count": 60
        }
      ],
      "source": [
        "np.dot(x,y)"
      ]
    },
    {
      "cell_type": "code",
      "execution_count": 61,
      "id": "37d8b65a",
      "metadata": {
        "colab": {
          "base_uri": "https://localhost:8080/"
        },
        "id": "37d8b65a",
        "outputId": "023fbf3c-fe33-440d-c267-146834a137f7"
      },
      "outputs": [
        {
          "output_type": "execute_result",
          "data": {
            "text/plain": [
              "array([[ 2, 10],\n",
              "       [35, 48]])"
            ]
          },
          "metadata": {},
          "execution_count": 61
        }
      ],
      "source": [
        "x * y"
      ]
    },
    {
      "cell_type": "code",
      "execution_count": 62,
      "id": "50524bc7",
      "metadata": {
        "colab": {
          "base_uri": "https://localhost:8080/"
        },
        "id": "50524bc7",
        "outputId": "366b458a-cb46-45af-9193-0df738d7fae2"
      },
      "outputs": [
        {
          "output_type": "execute_result",
          "data": {
            "text/plain": [
              "array([[16, 21],\n",
              "       [52, 73]])"
            ]
          },
          "metadata": {},
          "execution_count": 62
        }
      ],
      "source": [
        "np.matmul(x,y)"
      ]
    },
    {
      "cell_type": "code",
      "execution_count": 63,
      "id": "015d1b8b",
      "metadata": {
        "colab": {
          "base_uri": "https://localhost:8080/"
        },
        "id": "015d1b8b",
        "outputId": "43fc8513-0e72-42bb-bfc0-f8d8bf1f1d5d"
      },
      "outputs": [
        {
          "output_type": "execute_result",
          "data": {
            "text/plain": [
              "array([[16, 21],\n",
              "       [52, 73]])"
            ]
          },
          "metadata": {},
          "execution_count": 63
        }
      ],
      "source": [
        "x @ y"
      ]
    }
  ],
  "metadata": {
    "kernelspec": {
      "display_name": "Python 3",
      "language": "python",
      "name": "python3"
    },
    "language_info": {
      "codemirror_mode": {
        "name": "ipython",
        "version": 3
      },
      "file_extension": ".py",
      "mimetype": "text/x-python",
      "name": "python",
      "nbconvert_exporter": "python",
      "pygments_lexer": "ipython3",
      "version": "3.8.8"
    },
    "colab": {
      "name": "Basic Numpy functions without comments",
      "provenance": []
    }
  },
  "nbformat": 4,
  "nbformat_minor": 5
}